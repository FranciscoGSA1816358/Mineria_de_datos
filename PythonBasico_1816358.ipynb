{
 "cells": [
  {
   "cell_type": "markdown",
   "metadata": {},
   "source": [
    "# Ejercicios Básico Python"
   ]
  },
  {
   "cell_type": "markdown",
   "metadata": {},
   "source": [
    "## Ejercicio 1\n",
    "### *Realiza una variable con tu matricula y realiza una secuencia de imprimir con tu nombre y tu matricula concatenados."
   ]
  },
  {
   "cell_type": "code",
   "execution_count": 1,
   "metadata": {},
   "outputs": [
    {
     "name": "stdout",
     "output_type": "stream",
     "text": [
      "1816358 Francisco\n"
     ]
    }
   ],
   "source": [
    "Matricula=1816358\n",
    "Nombre= 'Francisco' \n",
    "print(Matricula, Nombre)"
   ]
  },
  {
   "cell_type": "markdown",
   "metadata": {},
   "source": [
    "## Ejercicio 2\n",
    "### *Pidiendo el input del usuario pide dos números y crea una pequeña calculadora con los operadores básicos de suma, resta, multiplicación, división, y exponente."
   ]
  },
  {
   "cell_type": "code",
   "execution_count": 14,
   "metadata": {},
   "outputs": [
    {
     "name": "stdout",
     "output_type": "stream",
     "text": [
      "¿Cómo se llama?Eduardo\n",
      "9 -1 20 0.8 1024\n"
     ]
    }
   ],
   "source": [
    "Usuario = input(\"¿Cómo se llama?\")\n",
    "x = 4\n",
    "y = 5\n",
    "Suma = x+y\n",
    "Resta = x-y\n",
    "Multiplicación = x*y\n",
    "División = x/y\n",
    "Exponente = x**y\n",
    "print(Suma, Resta, Multiplicación, División, Exponente)"
   ]
  },
  {
   "cell_type": "markdown",
   "metadata": {},
   "source": [
    "## Ejercicio 3\n",
    "### *Con loop while o for, realiza una lista de 10 numeros multiplos de 3, y después realiza una función de loop que sume todos los números dentro del arreglo."
   ]
  },
  {
   "cell_type": "code",
   "execution_count": 19,
   "metadata": {},
   "outputs": [
    {
     "name": "stdout",
     "output_type": "stream",
     "text": [
      "Introduzca el número: 3\n",
      "3\n",
      "6\n",
      "9\n",
      "12\n",
      "15\n",
      "18\n",
      "21\n",
      "24\n",
      "27\n",
      "30\n"
     ]
    }
   ],
   "source": [
    "número= int(input(\"Introduzca el número: \"))\n",
    "for i in range(1,11):\n",
    "    resultado = i*número\n",
    "    print(resultado)"
   ]
  },
  {
   "cell_type": "code",
   "execution_count": 20,
   "metadata": {},
   "outputs": [
    {
     "name": "stdout",
     "output_type": "stream",
     "text": [
      "165\n"
     ]
    }
   ],
   "source": [
    "def sumalista(listaNumeros):\n",
    "    laSuma = 0\n",
    "    for i in listaNumeros:\n",
    "        laSuma = laSuma + i\n",
    "    return laSuma\n",
    "\n",
    "print(sumalista([3,6,9,12,15,18,21,24,27,30]))"
   ]
  },
  {
   "cell_type": "markdown",
   "metadata": {},
   "source": [
    "## Ejercicio 4\n",
    "### *Con una función de if else, revisar si un número es par o es impar."
   ]
  },
  {
   "cell_type": "code",
   "execution_count": 24,
   "metadata": {},
   "outputs": [
    {
     "name": "stdout",
     "output_type": "stream",
     "text": [
      "Introduce un número: 4\n",
      "Este numero es par\n"
     ]
    }
   ],
   "source": [
    "num = input(\"Introduce un número: \")\n",
    "num = int(num)\n",
    "if num == 0:\n",
    "    print (\"Este número es par.\")\n",
    "elif num%2 == 0:\n",
    "    print (\"Este numero es par\")\n",
    "else:\n",
    "    print (\"Este numero es impar\")"
   ]
  },
  {
   "cell_type": "markdown",
   "metadata": {},
   "source": [
    "### *Con una función de if else, revisar si un número es primo o no."
   ]
  },
  {
   "cell_type": "code",
   "execution_count": 28,
   "metadata": {},
   "outputs": [
    {
     "name": "stdout",
     "output_type": "stream",
     "text": [
      "Write a number: 7\n",
      "The number is prime!!\n"
     ]
    }
   ],
   "source": [
    "def isPrime(num):\n",
    "    if num < 1:\n",
    "        return False\n",
    "    elif num == 2:\n",
    "        return True\n",
    "    else:\n",
    "        for i in range(2, num):\n",
    "            if num % i == 0:\n",
    "                return False\n",
    "        return True            \n",
    "\n",
    "def app():\n",
    "    num = int(input('Escribe un número: '))\n",
    "    result = isPrime(num)\n",
    "\n",
    "    if result is True:\n",
    "        print('El número es primo!!')\n",
    "    else:\n",
    "        print('El número NO es primo!!')\n",
    "\n",
    "if __name__ == '__main__':\n",
    "    app()\n",
    "# urrl: https://medium.com/@eddydecena/validando-si-un-n%C3%BAmero-es-primo-en-python-a622cf6b4363"
   ]
  },
  {
   "cell_type": "markdown",
   "metadata": {},
   "source": [
    "## Ejercicio 5\n",
    "### *Utilizando diferentes clases en python, crea una calculadora con los operadores básicos de suma, resta, multiplicación, división, y exponente.\n",
    "\n"
   ]
  },
  {
   "cell_type": "code",
   "execution_count": 40,
   "metadata": {},
   "outputs": [
    {
     "name": "stdout",
     "output_type": "stream",
     "text": [
      "Seleccionar operación：\n",
      "1、Sumar\n",
      "2、Restar\n",
      "3、Multiplicación\n",
      "4、División\n",
      "Ingrese su elección (1/2/3/4):2\n",
      "Ingrese el primer número: 12\n",
      "Ingrese el segundo número: 12\n",
      "12 - 12 = 0\n"
     ]
    }
   ],
   "source": [
    "# Filename : test.py\n",
    "# author by : www.w3big.com, http://www.w3big.com/es/python3/python3-calculator.html\n",
    "\n",
    "def add(x, y):\n",
    "   \"\"\"Suma\"\"\"\n",
    "\n",
    "   return x + y\n",
    "\n",
    "def subtract(x, y):\n",
    "   \"\"\"Resta\"\"\"\n",
    "\n",
    "   return x - y\n",
    "\n",
    "def multiply(x, y):\n",
    "   \"\"\"Multiplicación\"\"\"\n",
    "\n",
    "   return x * y\n",
    "\n",
    "def divide(x, y):\n",
    "   \"\"\"División\"\"\"\n",
    "\n",
    "   return x / y\n",
    "\n",
    "print(\"Seleccionar operación：\")\n",
    "print(\"1、Sumar\")\n",
    "print(\"2、Restar\")\n",
    "print(\"3、Multiplicación\")\n",
    "print(\"4、División\")\n",
    "\n",
    "choice = input(\"Ingrese su elección (1/2/3/4):\")\n",
    "\n",
    "num1 = int(input(\"Ingrese el primer número: \"))\n",
    "num2 = int(input(\"Ingrese el segundo número: \"))\n",
    "\n",
    "if choice == '1':\n",
    "   print(num1,\"+\",num2,\"=\", add(num1,num2))\n",
    "\n",
    "elif choice == '2':\n",
    "   print(num1,\"-\",num2,\"=\", subtract(num1,num2))\n",
    "\n",
    "elif choice == '3':\n",
    "   print(num1,\"*\",num2,\"=\", multiply(num1,num2))\n",
    "\n",
    "elif choice == '4':\n",
    "   print(num1,\"/\",num2,\"=\", divide(num1,num2))\n",
    "else:\n",
    "   print(num1,\"**\",num2,\"=\",exp(num1,num2))"
   ]
  },
  {
   "cell_type": "markdown",
   "metadata": {},
   "source": [
    "## Tuplas___________________________________"
   ]
  },
  {
   "cell_type": "markdown",
   "metadata": {},
   "source": [
    "#### Crear una variable flotante, integer, boleana y compleja e imprimir el tipo de variable que es."
   ]
  },
  {
   "cell_type": "code",
   "execution_count": 15,
   "metadata": {},
   "outputs": [
    {
     "data": {
      "text/plain": [
       "(float, int, bool)"
      ]
     },
     "execution_count": 15,
     "metadata": {},
     "output_type": "execute_result"
    }
   ],
   "source": [
    "type(3.2), type(3), type(True)"
   ]
  },
  {
   "cell_type": "code",
   "execution_count": 16,
   "metadata": {},
   "outputs": [
    {
     "data": {
      "text/plain": [
       "complex"
      ]
     },
     "execution_count": 16,
     "metadata": {},
     "output_type": "execute_result"
    }
   ],
   "source": [
    "complejo = 2.1 + 7.8j\n",
    "complejo\n",
    "type(complejo)"
   ]
  },
  {
   "cell_type": "markdown",
   "metadata": {},
   "source": [
    "#### Crear una tupla con valores enteros imprimir el primer y ultimo valor."
   ]
  },
  {
   "cell_type": "code",
   "execution_count": null,
   "metadata": {},
   "outputs": [],
   "source": [
    "tupla=(1,2,3,4,5,6,7,8,9,10)\n",
    "tupla"
   ]
  },
  {
   "cell_type": "code",
   "execution_count": null,
   "metadata": {},
   "outputs": [],
   "source": [
    "tupla[1], tupla[9]"
   ]
  },
  {
   "cell_type": "markdown",
   "metadata": {},
   "source": [
    "#### Añadir 3 valores de string a la tupla."
   ]
  },
  {
   "cell_type": "code",
   "execution_count": null,
   "metadata": {},
   "outputs": [],
   "source": [
    "tupla=(1,2,3,4,5,6,7,8,9,10, \"Edad\", \"Sexo\", \"Estatura\")\n",
    "tupla"
   ]
  },
  {
   "cell_type": "markdown",
   "metadata": {},
   "source": [
    "#### Verificar si una variable existe dentro de la tupla."
   ]
  },
  {
   "cell_type": "code",
   "execution_count": 133,
   "metadata": {},
   "outputs": [
    {
     "data": {
      "text/plain": [
       "tuple"
      ]
     },
     "execution_count": 133,
     "metadata": {},
     "output_type": "execute_result"
    }
   ],
   "source": [
    "type(tupla)"
   ]
  },
  {
   "cell_type": "markdown",
   "metadata": {},
   "source": [
    "## Listas_________________________________________________"
   ]
  },
  {
   "cell_type": "markdown",
   "metadata": {},
   "source": [
    "#### Crear una lista con 40 elementos aleatorios enteros."
   ]
  },
  {
   "cell_type": "code",
   "execution_count": 123,
   "metadata": {},
   "outputs": [
    {
     "name": "stdout",
     "output_type": "stream",
     "text": [
      "Ingrese cuantos numeros aleatorios desea obtener\n",
      "40\n",
      "[29, 28, 14, 3, 28, 2, 17, 15, 5, 29, 41, 18, 5, 32, 11, 32, 25, 33, 33, 13, 40, 38, 16, 26, 21, 18, 12, 36, 24, 6, 20, 14, 36, 11, 32, 3, 3, 15, 14, 21]\n"
     ]
    }
   ],
   "source": [
    "import random\n",
    "print(\"Ingrese cuantos numeros aleatorios desea obtener\")\n",
    "n=int(input())\n",
    "aleatoriosOR = [random.randint(1,41) for _ in range(n)]\n",
    "print(aleatoriosOR)\n",
    "#[29, 28, 14, 3, 28, 2, 17, 15, 5, 29, 41, 18, 5, 32, 11, 32, 25, 33, 33, 13, 40, 38, 16, 26, 21,\n",
    "# 18, 12, 36, 24, 6, 20, 14, 36, 11, 32, 3, 3, 15, 14, 21]\n",
    "\n",
    "\n",
    "#la vvd no supe como detener los numeros aleatorios y anote estos que me salieron al principio y trabaje con ellos."
   ]
  },
  {
   "cell_type": "code",
   "execution_count": 151,
   "metadata": {},
   "outputs": [
    {
     "data": {
      "text/plain": [
       "40"
      ]
     },
     "execution_count": 151,
     "metadata": {},
     "output_type": "execute_result"
    }
   ],
   "source": [
    "numeroOR=[29, 28, 14, 3, 28, 2, 17, 15, 5, 29, 41, 18, 5, 32, 11, 32, 25, 33, 33, 13,\n",
    "            40, 38, 16, 26, 21, 18, 12, 36, 24, 6, 20, 14, 36, 11, 32, 3, 3, 15, 14, 21]\n",
    "len(numeroOR)"
   ]
  },
  {
   "cell_type": "markdown",
   "metadata": {},
   "source": [
    "#### Con una funcion (def) crear dos listas nuevas a partir de la lista creada por numeros aleatorios, en la cual en una esten los elementos pares, y en la otra los elementos impares."
   ]
  },
  {
   "cell_type": "code",
   "execution_count": 144,
   "metadata": {},
   "outputs": [
    {
     "name": "stdout",
     "output_type": "stream",
     "text": [
      "Ingrese cuantos numeros aleatorios desea obtener\n",
      "40\n",
      "[32, 2, 4, 40, 18, 0, 8, 32, 0, 34, 14, 18, 2, 18, 0, 20, 28, 10, 14, 32, 10, 0, 2, 30, 22, 32, 18, 14, 6, 22, 8, 38, 2, 12, 24, 28, 38, 22, 18, 18]\n"
     ]
    },
    {
     "data": {
      "text/plain": [
       "22"
      ]
     },
     "execution_count": 144,
     "metadata": {},
     "output_type": "execute_result"
    }
   ],
   "source": [
    "import random\n",
    "def listaAleatorios(n):\n",
    "    lista = []\n",
    "    for i in range(n):\n",
    "        lista.insert(i, random.randrange(0, 41,2))\n",
    "    return lista\n",
    "\n",
    "print(\"Ingrese cuantos numeros aleatorios desea obtener\")\n",
    "n = int(input())\n",
    "\n",
    "aleatoriosPAR = listaAleatorios(n)\n",
    "print(aleatoriosPAR)\n"
   ]
  },
  {
   "cell_type": "code",
   "execution_count": 152,
   "metadata": {},
   "outputs": [
    {
     "data": {
      "text/plain": [
       "21"
      ]
     },
     "execution_count": 152,
     "metadata": {},
     "output_type": "execute_result"
    }
   ],
   "source": [
    "numerosPar=[28, 14, 28, 2,18,32, 32, 40, 38, 16, 26,18, 12, 36, 24, 6, 20, 14, 36, 32, 14]\n",
    "len(numerosPar)"
   ]
  },
  {
   "cell_type": "code",
   "execution_count": 127,
   "metadata": {},
   "outputs": [
    {
     "name": "stdout",
     "output_type": "stream",
     "text": [
      "Ingrese cuantos numeros aleatorios desea obtener\n",
      "40\n",
      "[37, 37, 31, 21, 25, 5, 17, 15, 19, 25, 23, 15, 21, 15, 23, 9, 33, 27, 33, 19, 5, 23, 7, 35, 11, 21, 25, 3, 25, 11, 25, 31, 25, 3, 11, 27, 15, 13, 13, 3]\n"
     ]
    }
   ],
   "source": [
    "import random\n",
    "#IMPARES\n",
    "def listaAleatorios(n):\n",
    "    lista = []\n",
    "    for i in range(n):\n",
    "        lista.insert(i, random.randrange(1, 41, 2))\n",
    "    return lista\n",
    "\n",
    "print(\"Ingrese cuantos numeros aleatorios desea obtener\")\n",
    "n = int(input())\n",
    "\n",
    "aleatoriosIMPAR = listaAleatorios(n)\n",
    "print(aleatoriosIMPAR)"
   ]
  },
  {
   "cell_type": "code",
   "execution_count": 154,
   "metadata": {},
   "outputs": [
    {
     "data": {
      "text/plain": [
       "19"
      ]
     },
     "execution_count": 154,
     "metadata": {},
     "output_type": "execute_result"
    }
   ],
   "source": [
    "numerosIMPAR=[29, 3, 17, 15, 5, 29, 41, 5, 11, 25, 33, 33, 13, 21, 11, 3, 3, 15,21]\n",
    "len(numerosIMPAR)"
   ]
  },
  {
   "cell_type": "markdown",
   "metadata": {},
   "source": [
    "#### Crear dos variables con la longitud de ambas listas nuevas e imprimir las variables."
   ]
  },
  {
   "cell_type": "code",
   "execution_count": 155,
   "metadata": {},
   "outputs": [
    {
     "data": {
      "text/plain": [
       "21"
      ]
     },
     "execution_count": 155,
     "metadata": {},
     "output_type": "execute_result"
    }
   ],
   "source": [
    "numerosPar=[28, 14, 28, 2,18,32, 32, 40, 38, 16, 26,18, 12, 36, 24, 6, 20, 14, 36, 32, 14]\n",
    "len(numerosPar)"
   ]
  },
  {
   "cell_type": "code",
   "execution_count": 156,
   "metadata": {},
   "outputs": [
    {
     "data": {
      "text/plain": [
       "19"
      ]
     },
     "execution_count": 156,
     "metadata": {},
     "output_type": "execute_result"
    }
   ],
   "source": [
    "numerosIMPAR=[29, 3, 17, 15, 5, 29, 41, 5, 11, 25, 33, 33, 13, 21, 11, 3, 3, 15,21]\n",
    "len(numerosIMPAR)"
   ]
  },
  {
   "cell_type": "markdown",
   "metadata": {},
   "source": [
    "#### Ordenar los elementos de la lista par de mayor a menor, y los de la lista impar de menor a mayor."
   ]
  },
  {
   "cell_type": "code",
   "execution_count": 161,
   "metadata": {},
   "outputs": [
    {
     "data": {
      "text/plain": [
       "[40,\n",
       " 38,\n",
       " 36,\n",
       " 36,\n",
       " 32,\n",
       " 32,\n",
       " 32,\n",
       " 28,\n",
       " 28,\n",
       " 26,\n",
       " 24,\n",
       " 20,\n",
       " 18,\n",
       " 18,\n",
       " 16,\n",
       " 14,\n",
       " 14,\n",
       " 14,\n",
       " 12,\n",
       " 6,\n",
       " 2]"
      ]
     },
     "execution_count": 161,
     "metadata": {},
     "output_type": "execute_result"
    }
   ],
   "source": [
    "numerosPar=[28, 14, 28, 2,18,32, 32, 40, 38, 16, 26,18, 12, 36, 24, 6, 20, 14, 36, 32, 14]\n",
    "numerosPar.sort(reverse=True)\n",
    "numerosPar"
   ]
  },
  {
   "cell_type": "code",
   "execution_count": 157,
   "metadata": {},
   "outputs": [
    {
     "data": {
      "text/plain": [
       "[3, 3, 3, 5, 5, 11, 11, 13, 15, 15, 17, 21, 21, 25, 29, 29, 33, 33, 41]"
      ]
     },
     "execution_count": 157,
     "metadata": {},
     "output_type": "execute_result"
    }
   ],
   "source": [
    "numerosIMPAR=[29, 3, 17, 15, 5, 29, 41, 5, 11, 25, 33, 33, 13, 21, 11, 3, 3, 15,21]\n",
    "numerosIMPAR.sort()\n",
    "numerosIMPAR"
   ]
  },
  {
   "cell_type": "markdown",
   "metadata": {},
   "source": [
    "#### Utilizar al menos cuatro de las funciones de listas en python en la lista original de 40 elementos."
   ]
  },
  {
   "cell_type": "code",
   "execution_count": 162,
   "metadata": {},
   "outputs": [
    {
     "data": {
      "text/plain": [
       "40"
      ]
     },
     "execution_count": 162,
     "metadata": {},
     "output_type": "execute_result"
    }
   ],
   "source": [
    "#1.-Contar \n",
    "numeroOR=[29, 28, 14, 3, 28, 2, 17, 15, 5, 29, 41, 18, 5, 32, 11, 32, 25, 33, 33, 13,\n",
    "            40, 38, 16, 26, 21, 18, 12, 36, 24, 6, 20, 14, 36, 11, 32, 3, 3, 15, 14, 21]\n",
    "len(numeroOR)"
   ]
  },
  {
   "cell_type": "code",
   "execution_count": 165,
   "metadata": {},
   "outputs": [
    {
     "data": {
      "text/plain": [
       "[2,\n",
       " 3,\n",
       " 3,\n",
       " 3,\n",
       " 5,\n",
       " 5,\n",
       " 6,\n",
       " 11,\n",
       " 11,\n",
       " 12,\n",
       " 13,\n",
       " 14,\n",
       " 14,\n",
       " 14,\n",
       " 15,\n",
       " 15,\n",
       " 16,\n",
       " 17,\n",
       " 18,\n",
       " 18,\n",
       " 20,\n",
       " 21,\n",
       " 21,\n",
       " 24,\n",
       " 25,\n",
       " 26,\n",
       " 28,\n",
       " 28,\n",
       " 29,\n",
       " 29,\n",
       " 32,\n",
       " 32,\n",
       " 32,\n",
       " 33,\n",
       " 33,\n",
       " 36,\n",
       " 36,\n",
       " 38,\n",
       " 40,\n",
       " 41]"
      ]
     },
     "execution_count": 165,
     "metadata": {},
     "output_type": "execute_result"
    }
   ],
   "source": [
    "#2.- Ordenar menor a mayor\n",
    "numeroOR=[29, 28, 14, 3, 28, 2, 17, 15, 5, 29, 41, 18, 5, 32, 11, 32, 25, 33, 33, 13,\n",
    "            40, 38, 16, 26, 21, 18, 12, 36, 24, 6, 20, 14, 36, 11, 32, 3, 3, 15, 14, 21]\n",
    "numeroOR.sort()\n",
    "numeroOR"
   ]
  },
  {
   "cell_type": "code",
   "execution_count": 166,
   "metadata": {},
   "outputs": [
    {
     "data": {
      "text/plain": [
       "[41,\n",
       " 40,\n",
       " 38,\n",
       " 36,\n",
       " 36,\n",
       " 33,\n",
       " 33,\n",
       " 32,\n",
       " 32,\n",
       " 32,\n",
       " 29,\n",
       " 29,\n",
       " 28,\n",
       " 28,\n",
       " 26,\n",
       " 25,\n",
       " 24,\n",
       " 21,\n",
       " 21,\n",
       " 20,\n",
       " 18,\n",
       " 18,\n",
       " 17,\n",
       " 16,\n",
       " 15,\n",
       " 15,\n",
       " 14,\n",
       " 14,\n",
       " 14,\n",
       " 13,\n",
       " 12,\n",
       " 11,\n",
       " 11,\n",
       " 6,\n",
       " 5,\n",
       " 5,\n",
       " 3,\n",
       " 3,\n",
       " 3,\n",
       " 2]"
      ]
     },
     "execution_count": 166,
     "metadata": {},
     "output_type": "execute_result"
    }
   ],
   "source": [
    "#3.- Ordenar mayor a menor\n",
    "numeroOR=[29, 28, 14, 3, 28, 2, 17, 15, 5, 29, 41, 18, 5, 32, 11, 32, 25, 33, 33, 13,\n",
    "            40, 38, 16, 26, 21, 18, 12, 36, 24, 6, 20, 14, 36, 11, 32, 3, 3, 15, 14, 21]\n",
    "numeroOR.sort(reverse=True)\n",
    "numeroOR"
   ]
  },
  {
   "cell_type": "code",
   "execution_count": 169,
   "metadata": {},
   "outputs": [
    {
     "data": {
      "text/plain": [
       "41"
      ]
     },
     "execution_count": 169,
     "metadata": {},
     "output_type": "execute_result"
    }
   ],
   "source": [
    "#4.- El valor más grande\n",
    "valores = [29, 28, 14, 3, 28, 2, 17, 15, 5, 29, 41, 18, 5, 32, 11, 32, 25, 33, 33, 13,\n",
    "            40, 38, 16, 26, 21, 18, 12, 36, 24, 6, 20, 14, 36, 11, 32, 3, 3, 15, 14, 21]\n",
    "max_item = max(valores, key=int)\n",
    "max_item"
   ]
  },
  {
   "cell_type": "markdown",
   "metadata": {},
   "source": [
    "## Diccionarios_________________________________________________\n"
   ]
  },
  {
   "cell_type": "markdown",
   "metadata": {},
   "source": [
    "#### Crear un diccionario de 6 personas que conozcas con su primer nombre y su edad."
   ]
  },
  {
   "cell_type": "code",
   "execution_count": 90,
   "metadata": {},
   "outputs": [
    {
     "data": {
      "text/plain": [
       "[{'nombre': 'Francisco', 'edad': 20},\n",
       " {'nombre': 'Karyme', 'edad': 21},\n",
       " {'nombre': 'Valeria', 'edad': 20},\n",
       " {'nombre': 'Vanessa', 'edad': 21},\n",
       " {'nombre': 'Sofia', 'edad': 19},\n",
       " {'nombre': 'Claudia', 'edad': 24}]"
      ]
     },
     "execution_count": 90,
     "metadata": {},
     "output_type": "execute_result"
    }
   ],
   "source": [
    "diccionario = dict()\n",
    "diccionario = [{'nombre':'Francisco', 'edad':20}, {'nombre':'Karyme', 'edad':21}, {'nombre':'Valeria', 'edad':20}, \n",
    "               {'nombre':'Vanessa', 'edad':21},{'nombre':'Sofia', 'edad':19},{'nombre':'Claudia', 'edad':24}]\n",
    "diccionario"
   ]
  },
  {
   "cell_type": "markdown",
   "metadata": {},
   "source": [
    "#### Crear una lista con los valores de la edad y reacomodar la lista de menor a mayor valor."
   ]
  },
  {
   "cell_type": "code",
   "execution_count": 91,
   "metadata": {},
   "outputs": [
    {
     "data": {
      "text/plain": [
       "[19, 20, 20, 21, 21, 24]"
      ]
     },
     "execution_count": 91,
     "metadata": {},
     "output_type": "execute_result"
    }
   ],
   "source": [
    "edades=(20,21,20,21,19,24)\n",
    "ordenados=sorted(edades)\n",
    "ordenados "
   ]
  },
  {
   "cell_type": "code",
   "execution_count": 92,
   "metadata": {},
   "outputs": [
    {
     "data": {
      "text/plain": [
       "[{'nombre': 'Sofia', 'edad': 19},\n",
       " {'nombre': 'Francisco', 'edad': 20},\n",
       " {'nombre': 'Valeria', 'edad': 20},\n",
       " {'nombre': 'Karyme', 'edad': 21},\n",
       " {'nombre': 'Vanessa', 'edad': 21},\n",
       " {'nombre': 'Claudia', 'edad': 24}]"
      ]
     },
     "execution_count": 92,
     "metadata": {},
     "output_type": "execute_result"
    }
   ],
   "source": [
    "diccionario_ordenado = [{'nombre':'Sofia', 'edad':19},{'nombre':'Francisco', 'edad':20},{'nombre':'Valeria', 'edad':20},\n",
    "                        {'nombre':'Karyme', 'edad':21},{'nombre':'Vanessa', 'edad':21},{'nombre':'Claudia', 'edad':24}] \n",
    "diccionario_ordenado"
   ]
  },
  {
   "cell_type": "markdown",
   "metadata": {},
   "source": [
    "#### Usando el diccionario y un loop, imprimir solo los nombres."
   ]
  },
  {
   "cell_type": "code",
   "execution_count": 101,
   "metadata": {},
   "outputs": [
    {
     "name": "stdout",
     "output_type": "stream",
     "text": [
      "Francisco\n",
      "24\n",
      "Karyme\n",
      "Valeria\n",
      "Vanessa\n",
      "Sofia\n",
      "Claudia\n"
     ]
    }
   ],
   "source": [
    "diccionario1 = ({'nombre1':'Francisco', 'edad':20,'nombre2':'Karyme', 'edad':21, 'nombre3':'Valeria', 'edad':20, \n",
    "               'nombre4':'Vanessa', 'edad':21,'nombre5':'Sofia', 'edad':19,'nombre6':'Claudia', 'edad':24})\n",
    "for v in diccionario1.values():\n",
    "    print(v)\n"
   ]
  },
  {
   "cell_type": "markdown",
   "metadata": {},
   "source": [
    "#### Añadir dos personas nuevas a tu diccionario, incluyendo edad."
   ]
  },
  {
   "cell_type": "code",
   "execution_count": 110,
   "metadata": {},
   "outputs": [
    {
     "data": {
      "text/plain": [
       "{'nombre1': 'Francisco',\n",
       " 'edad1': 20,\n",
       " 'nombre2': 'Karyme',\n",
       " 'edad2': 21,\n",
       " 'nombre3': 'Valeria',\n",
       " 'edad3': 20,\n",
       " 'nombre4': 'Vanessa',\n",
       " 'edad4': 21,\n",
       " 'nombre5': 'Sofia',\n",
       " 'edad5': 19,\n",
       " 'nombre6': 'Claudia',\n",
       " 'edad6': 24,\n",
       " 'nombre7': 'Andrea',\n",
       " 'edad7': 20,\n",
       " 'nombre8': 'Daniela',\n",
       " 'edad8': 25}"
      ]
     },
     "execution_count": 110,
     "metadata": {},
     "output_type": "execute_result"
    }
   ],
   "source": [
    "diccionario1 = {'nombre1':'Francisco', 'edad1':20,'nombre2':'Karyme', 'edad2':21, 'nombre3':'Valeria', 'edad3':20, \n",
    "               'nombre4':'Vanessa', 'edad4':21,'nombre5':'Sofia', 'edad5':19,'nombre6':'Claudia', 'edad6':24}\n",
    "diccionario1['nombre7']='Andrea'\n",
    "diccionario1['edad7']=20\n",
    "diccionario1['nombre8']='Daniela'\n",
    "diccionario1['edad8']=25\n",
    "diccionario1"
   ]
  },
  {
   "cell_type": "markdown",
   "metadata": {},
   "source": [
    "## Sets_______________________________________________"
   ]
  },
  {
   "cell_type": "markdown",
   "metadata": {},
   "source": [
    "#### Crea un set con 100 numeros aleatorios enteros del 1 al 25."
   ]
  },
  {
   "cell_type": "code",
   "execution_count": 10,
   "metadata": {},
   "outputs": [
    {
     "name": "stdout",
     "output_type": "stream",
     "text": [
      "12\n",
      "10\n",
      "14\n",
      "11\n",
      "24\n",
      "16\n",
      "13\n",
      "21\n",
      "16\n",
      "6\n",
      "1\n",
      "15\n",
      "14\n",
      "23\n",
      "23\n",
      "4\n",
      "6\n",
      "10\n",
      "18\n",
      "13\n",
      "22\n",
      "5\n",
      "3\n",
      "13\n",
      "16\n",
      "9\n",
      "11\n",
      "10\n",
      "8\n",
      "3\n",
      "20\n",
      "22\n",
      "5\n",
      "6\n",
      "7\n",
      "3\n",
      "8\n",
      "9\n",
      "23\n",
      "23\n",
      "23\n",
      "16\n",
      "12\n",
      "9\n",
      "3\n",
      "15\n",
      "22\n",
      "11\n",
      "20\n",
      "19\n",
      "23\n",
      "15\n",
      "3\n",
      "14\n",
      "18\n",
      "19\n",
      "1\n",
      "13\n",
      "23\n",
      "22\n",
      "5\n",
      "16\n",
      "15\n",
      "14\n",
      "16\n",
      "20\n",
      "19\n",
      "1\n",
      "7\n",
      "3\n",
      "6\n",
      "19\n",
      "3\n",
      "5\n",
      "20\n",
      "22\n",
      "20\n",
      "10\n",
      "21\n",
      "10\n",
      "4\n",
      "25\n",
      "4\n",
      "24\n",
      "3\n",
      "13\n",
      "20\n",
      "19\n",
      "19\n",
      "2\n",
      "6\n",
      "2\n",
      "24\n",
      "2\n",
      "4\n",
      "25\n",
      "4\n",
      "12\n",
      "16\n",
      "7\n"
     ]
    }
   ],
   "source": [
    "import random\n",
    "for i in range (100):\n",
    "    print (random.randint(1,25))"
   ]
  },
  {
   "cell_type": "markdown",
   "metadata": {},
   "source": [
    "#### Comprueba la longitud de tu set."
   ]
  },
  {
   "cell_type": "code",
   "execution_count": 11,
   "metadata": {},
   "outputs": [
    {
     "data": {
      "text/plain": [
       "100"
      ]
     },
     "execution_count": 11,
     "metadata": {},
     "output_type": "execute_result"
    }
   ],
   "source": [
    "len(range(100))"
   ]
  },
  {
   "cell_type": "markdown",
   "metadata": {},
   "source": [
    "#### Crea una lista de 5 numeros aleatorios del 1 al 10 y comprueba si cada valor aparece en el set inicial."
   ]
  },
  {
   "cell_type": "code",
   "execution_count": 12,
   "metadata": {},
   "outputs": [
    {
     "name": "stdout",
     "output_type": "stream",
     "text": [
      "6\n",
      "8\n",
      "3\n",
      "5\n",
      "3\n"
     ]
    }
   ],
   "source": [
    "import random\n",
    "for i in range (5):\n",
    "    print (random.randrange(1,10)) #[1,8.9,6,7] #Si aparecen los valores en el set inicial"
   ]
  }
 ],
 "metadata": {
  "kernelspec": {
   "display_name": "Python 3",
   "language": "python",
   "name": "python3"
  },
  "language_info": {
   "codemirror_mode": {
    "name": "ipython",
    "version": 3
   },
   "file_extension": ".py",
   "mimetype": "text/x-python",
   "name": "python",
   "nbconvert_exporter": "python",
   "pygments_lexer": "ipython3",
   "version": "3.8.3"
  }
 },
 "nbformat": 4,
 "nbformat_minor": 4
}
