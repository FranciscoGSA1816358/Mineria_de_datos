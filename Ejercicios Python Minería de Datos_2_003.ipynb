{
 "cells": [
  {
   "cell_type": "markdown",
   "metadata": {},
   "source": [
    "# Tiroteos escolares USA 1990-presente"
   ]
  },
  {
   "cell_type": "markdown",
   "metadata": {},
   "source": [
    "#### 1.-Importar libreria y base de datos"
   ]
  },
  {
   "cell_type": "code",
   "execution_count": 1,
   "metadata": {},
   "outputs": [],
   "source": [
    "import pandas as pd\n",
    "import numpy as np\n",
    "import json"
   ]
  },
  {
   "cell_type": "code",
   "execution_count": 2,
   "metadata": {},
   "outputs": [
    {
     "data": {
      "text/html": [
       "<div>\n",
       "<style scoped>\n",
       "    .dataframe tbody tr th:only-of-type {\n",
       "        vertical-align: middle;\n",
       "    }\n",
       "\n",
       "    .dataframe tbody tr th {\n",
       "        vertical-align: top;\n",
       "    }\n",
       "\n",
       "    .dataframe thead th {\n",
       "        text-align: right;\n",
       "    }\n",
       "</style>\n",
       "<table border=\"1\" class=\"dataframe\">\n",
       "  <thead>\n",
       "    <tr style=\"text-align: right;\">\n",
       "      <th></th>\n",
       "      <th>Date</th>\n",
       "      <th>City</th>\n",
       "      <th>State</th>\n",
       "      <th>AreaType</th>\n",
       "      <th>School</th>\n",
       "      <th>Fatalities</th>\n",
       "      <th>Wounded</th>\n",
       "      <th>Dupe</th>\n",
       "      <th>Source</th>\n",
       "      <th>Desc</th>\n",
       "    </tr>\n",
       "  </thead>\n",
       "  <tbody>\n",
       "    <tr>\n",
       "      <th>0</th>\n",
       "      <td>3/27/90</td>\n",
       "      <td>Brooklyn</td>\n",
       "      <td>New York</td>\n",
       "      <td>NaN</td>\n",
       "      <td>C</td>\n",
       "      <td>0</td>\n",
       "      <td>1.0</td>\n",
       "      <td>NaN</td>\n",
       "      <td>Wikp</td>\n",
       "      <td>A black youth was taunted with racial slurs by...</td>\n",
       "    </tr>\n",
       "    <tr>\n",
       "      <th>1</th>\n",
       "      <td>5/20/90</td>\n",
       "      <td>Centerville</td>\n",
       "      <td>Tennessee</td>\n",
       "      <td>suburban</td>\n",
       "      <td>HS</td>\n",
       "      <td>1</td>\n",
       "      <td>NaN</td>\n",
       "      <td>NaN</td>\n",
       "      <td>Pah</td>\n",
       "      <td>NaN</td>\n",
       "    </tr>\n",
       "    <tr>\n",
       "      <th>2</th>\n",
       "      <td>8/26/90</td>\n",
       "      <td>Las Vegas</td>\n",
       "      <td>Nevada</td>\n",
       "      <td>urban</td>\n",
       "      <td>HS</td>\n",
       "      <td>1</td>\n",
       "      <td>NaN</td>\n",
       "      <td>NaN</td>\n",
       "      <td>Pah</td>\n",
       "      <td>NaN</td>\n",
       "    </tr>\n",
       "    <tr>\n",
       "      <th>3</th>\n",
       "      <td>9/11/90</td>\n",
       "      <td>San Antonio</td>\n",
       "      <td>Texas</td>\n",
       "      <td>NaN</td>\n",
       "      <td>HS</td>\n",
       "      <td>0</td>\n",
       "      <td>3.0</td>\n",
       "      <td>NaN</td>\n",
       "      <td>Wikp</td>\n",
       "      <td>3 students were wounded when gunfire broke out...</td>\n",
       "    </tr>\n",
       "    <tr>\n",
       "      <th>4</th>\n",
       "      <td>1/8/91</td>\n",
       "      <td>Richardson</td>\n",
       "      <td>Texas</td>\n",
       "      <td>urban</td>\n",
       "      <td>HS</td>\n",
       "      <td>0</td>\n",
       "      <td>NaN</td>\n",
       "      <td>NaN</td>\n",
       "      <td>Pah</td>\n",
       "      <td>NaN</td>\n",
       "    </tr>\n",
       "    <tr>\n",
       "      <th>...</th>\n",
       "      <td>...</td>\n",
       "      <td>...</td>\n",
       "      <td>...</td>\n",
       "      <td>...</td>\n",
       "      <td>...</td>\n",
       "      <td>...</td>\n",
       "      <td>...</td>\n",
       "      <td>...</td>\n",
       "      <td>...</td>\n",
       "      <td>...</td>\n",
       "    </tr>\n",
       "    <tr>\n",
       "      <th>690</th>\n",
       "      <td>1/14/20</td>\n",
       "      <td>Bellaire</td>\n",
       "      <td>Texas</td>\n",
       "      <td>NaN</td>\n",
       "      <td>HS</td>\n",
       "      <td>1</td>\n",
       "      <td>0.0</td>\n",
       "      <td>NaN</td>\n",
       "      <td>Wikp</td>\n",
       "      <td>A 19-year old student was shot in the chest an...</td>\n",
       "    </tr>\n",
       "    <tr>\n",
       "      <th>691</th>\n",
       "      <td>1/14/20</td>\n",
       "      <td>Fort Worth</td>\n",
       "      <td>Texas</td>\n",
       "      <td>NaN</td>\n",
       "      <td>HS</td>\n",
       "      <td>0</td>\n",
       "      <td>2.0</td>\n",
       "      <td>NaN</td>\n",
       "      <td>Wikp</td>\n",
       "      <td>An adult male and a 10-year old child were inj...</td>\n",
       "    </tr>\n",
       "    <tr>\n",
       "      <th>692</th>\n",
       "      <td>1/23/20</td>\n",
       "      <td>Oxnard</td>\n",
       "      <td>California</td>\n",
       "      <td>NaN</td>\n",
       "      <td>ES</td>\n",
       "      <td>0</td>\n",
       "      <td>1.0</td>\n",
       "      <td>NaN</td>\n",
       "      <td>Wikp</td>\n",
       "      <td>NaN</td>\n",
       "    </tr>\n",
       "    <tr>\n",
       "      <th>693</th>\n",
       "      <td>2/3/20</td>\n",
       "      <td>Commerce</td>\n",
       "      <td>Texas</td>\n",
       "      <td>NaN</td>\n",
       "      <td>C</td>\n",
       "      <td>2</td>\n",
       "      <td>1.0</td>\n",
       "      <td>NaN</td>\n",
       "      <td>Wikp</td>\n",
       "      <td>Jacques Dshawn Smith, 21, gained access to Pri...</td>\n",
       "    </tr>\n",
       "    <tr>\n",
       "      <th>694</th>\n",
       "      <td>9/16/20</td>\n",
       "      <td>Sonora</td>\n",
       "      <td>California</td>\n",
       "      <td>NaN</td>\n",
       "      <td>HS</td>\n",
       "      <td>1</td>\n",
       "      <td>0.0</td>\n",
       "      <td>NaN</td>\n",
       "      <td>Wikp</td>\n",
       "      <td>At Sonora High School in downtown Sonora, stud...</td>\n",
       "    </tr>\n",
       "  </tbody>\n",
       "</table>\n",
       "<p>695 rows × 10 columns</p>\n",
       "</div>"
      ],
      "text/plain": [
       "        Date         City       State  AreaType School  Fatalities  Wounded  \\\n",
       "0    3/27/90     Brooklyn    New York       NaN      C           0      1.0   \n",
       "1    5/20/90  Centerville   Tennessee  suburban     HS           1      NaN   \n",
       "2    8/26/90    Las Vegas      Nevada     urban     HS           1      NaN   \n",
       "3    9/11/90  San Antonio       Texas       NaN     HS           0      3.0   \n",
       "4     1/8/91   Richardson       Texas     urban     HS           0      NaN   \n",
       "..       ...          ...         ...       ...    ...         ...      ...   \n",
       "690  1/14/20     Bellaire       Texas       NaN     HS           1      0.0   \n",
       "691  1/14/20   Fort Worth       Texas       NaN     HS           0      2.0   \n",
       "692  1/23/20       Oxnard  California       NaN     ES           0      1.0   \n",
       "693   2/3/20     Commerce       Texas       NaN      C           2      1.0   \n",
       "694  9/16/20       Sonora  California       NaN     HS           1      0.0   \n",
       "\n",
       "    Dupe Source                                               Desc  \n",
       "0    NaN   Wikp  A black youth was taunted with racial slurs by...  \n",
       "1    NaN    Pah                                                NaN  \n",
       "2    NaN    Pah                                                NaN  \n",
       "3    NaN   Wikp  3 students were wounded when gunfire broke out...  \n",
       "4    NaN    Pah                                                NaN  \n",
       "..   ...    ...                                                ...  \n",
       "690  NaN   Wikp  A 19-year old student was shot in the chest an...  \n",
       "691  NaN   Wikp  An adult male and a 10-year old child were inj...  \n",
       "692  NaN   Wikp                                                NaN  \n",
       "693  NaN   Wikp  Jacques Dshawn Smith, 21, gained access to Pri...  \n",
       "694  NaN   Wikp  At Sonora High School in downtown Sonora, stud...  \n",
       "\n",
       "[695 rows x 10 columns]"
      ]
     },
     "execution_count": 2,
     "metadata": {},
     "output_type": "execute_result"
    }
   ],
   "source": [
    "df = pd.read_csv(\"pah_wikp_combo.csv\")\n",
    "df"
   ]
  },
  {
   "cell_type": "markdown",
   "metadata": {},
   "source": [
    "El csv. lo puse en la carpeta 7mo. Semestre, Mineria de datos, Etapa 3 "
   ]
  },
  {
   "cell_type": "code",
   "execution_count": 3,
   "metadata": {},
   "outputs": [
    {
     "data": {
      "text/html": [
       "<div>\n",
       "<style scoped>\n",
       "    .dataframe tbody tr th:only-of-type {\n",
       "        vertical-align: middle;\n",
       "    }\n",
       "\n",
       "    .dataframe tbody tr th {\n",
       "        vertical-align: top;\n",
       "    }\n",
       "\n",
       "    .dataframe thead th {\n",
       "        text-align: right;\n",
       "    }\n",
       "</style>\n",
       "<table border=\"1\" class=\"dataframe\">\n",
       "  <thead>\n",
       "    <tr style=\"text-align: right;\">\n",
       "      <th></th>\n",
       "      <th>Date</th>\n",
       "      <th>City</th>\n",
       "      <th>State</th>\n",
       "      <th>AreaType</th>\n",
       "      <th>School</th>\n",
       "      <th>Fatalities</th>\n",
       "      <th>Wounded</th>\n",
       "      <th>Dupe</th>\n",
       "      <th>Source</th>\n",
       "      <th>Desc</th>\n",
       "    </tr>\n",
       "  </thead>\n",
       "  <tbody>\n",
       "    <tr>\n",
       "      <th>0</th>\n",
       "      <td>3/27/90</td>\n",
       "      <td>Brooklyn</td>\n",
       "      <td>New York</td>\n",
       "      <td>NaN</td>\n",
       "      <td>C</td>\n",
       "      <td>0</td>\n",
       "      <td>1.0</td>\n",
       "      <td>NaN</td>\n",
       "      <td>Wikp</td>\n",
       "      <td>A black youth was taunted with racial slurs by...</td>\n",
       "    </tr>\n",
       "    <tr>\n",
       "      <th>1</th>\n",
       "      <td>5/20/90</td>\n",
       "      <td>Centerville</td>\n",
       "      <td>Tennessee</td>\n",
       "      <td>suburban</td>\n",
       "      <td>HS</td>\n",
       "      <td>1</td>\n",
       "      <td>NaN</td>\n",
       "      <td>NaN</td>\n",
       "      <td>Pah</td>\n",
       "      <td>NaN</td>\n",
       "    </tr>\n",
       "    <tr>\n",
       "      <th>2</th>\n",
       "      <td>8/26/90</td>\n",
       "      <td>Las Vegas</td>\n",
       "      <td>Nevada</td>\n",
       "      <td>urban</td>\n",
       "      <td>HS</td>\n",
       "      <td>1</td>\n",
       "      <td>NaN</td>\n",
       "      <td>NaN</td>\n",
       "      <td>Pah</td>\n",
       "      <td>NaN</td>\n",
       "    </tr>\n",
       "    <tr>\n",
       "      <th>3</th>\n",
       "      <td>9/11/90</td>\n",
       "      <td>San Antonio</td>\n",
       "      <td>Texas</td>\n",
       "      <td>NaN</td>\n",
       "      <td>HS</td>\n",
       "      <td>0</td>\n",
       "      <td>3.0</td>\n",
       "      <td>NaN</td>\n",
       "      <td>Wikp</td>\n",
       "      <td>3 students were wounded when gunfire broke out...</td>\n",
       "    </tr>\n",
       "    <tr>\n",
       "      <th>4</th>\n",
       "      <td>1/8/91</td>\n",
       "      <td>Richardson</td>\n",
       "      <td>Texas</td>\n",
       "      <td>urban</td>\n",
       "      <td>HS</td>\n",
       "      <td>0</td>\n",
       "      <td>NaN</td>\n",
       "      <td>NaN</td>\n",
       "      <td>Pah</td>\n",
       "      <td>NaN</td>\n",
       "    </tr>\n",
       "    <tr>\n",
       "      <th>...</th>\n",
       "      <td>...</td>\n",
       "      <td>...</td>\n",
       "      <td>...</td>\n",
       "      <td>...</td>\n",
       "      <td>...</td>\n",
       "      <td>...</td>\n",
       "      <td>...</td>\n",
       "      <td>...</td>\n",
       "      <td>...</td>\n",
       "      <td>...</td>\n",
       "    </tr>\n",
       "    <tr>\n",
       "      <th>690</th>\n",
       "      <td>1/14/20</td>\n",
       "      <td>Bellaire</td>\n",
       "      <td>Texas</td>\n",
       "      <td>NaN</td>\n",
       "      <td>HS</td>\n",
       "      <td>1</td>\n",
       "      <td>0.0</td>\n",
       "      <td>NaN</td>\n",
       "      <td>Wikp</td>\n",
       "      <td>A 19-year old student was shot in the chest an...</td>\n",
       "    </tr>\n",
       "    <tr>\n",
       "      <th>691</th>\n",
       "      <td>1/14/20</td>\n",
       "      <td>Fort Worth</td>\n",
       "      <td>Texas</td>\n",
       "      <td>NaN</td>\n",
       "      <td>HS</td>\n",
       "      <td>0</td>\n",
       "      <td>2.0</td>\n",
       "      <td>NaN</td>\n",
       "      <td>Wikp</td>\n",
       "      <td>An adult male and a 10-year old child were inj...</td>\n",
       "    </tr>\n",
       "    <tr>\n",
       "      <th>692</th>\n",
       "      <td>1/23/20</td>\n",
       "      <td>Oxnard</td>\n",
       "      <td>California</td>\n",
       "      <td>NaN</td>\n",
       "      <td>ES</td>\n",
       "      <td>0</td>\n",
       "      <td>1.0</td>\n",
       "      <td>NaN</td>\n",
       "      <td>Wikp</td>\n",
       "      <td>NaN</td>\n",
       "    </tr>\n",
       "    <tr>\n",
       "      <th>693</th>\n",
       "      <td>2/3/20</td>\n",
       "      <td>Commerce</td>\n",
       "      <td>Texas</td>\n",
       "      <td>NaN</td>\n",
       "      <td>C</td>\n",
       "      <td>2</td>\n",
       "      <td>1.0</td>\n",
       "      <td>NaN</td>\n",
       "      <td>Wikp</td>\n",
       "      <td>Jacques Dshawn Smith, 21, gained access to Pri...</td>\n",
       "    </tr>\n",
       "    <tr>\n",
       "      <th>694</th>\n",
       "      <td>9/16/20</td>\n",
       "      <td>Sonora</td>\n",
       "      <td>California</td>\n",
       "      <td>NaN</td>\n",
       "      <td>HS</td>\n",
       "      <td>1</td>\n",
       "      <td>0.0</td>\n",
       "      <td>NaN</td>\n",
       "      <td>Wikp</td>\n",
       "      <td>At Sonora High School in downtown Sonora, stud...</td>\n",
       "    </tr>\n",
       "  </tbody>\n",
       "</table>\n",
       "<p>695 rows × 10 columns</p>\n",
       "</div>"
      ],
      "text/plain": [
       "        Date         City       State  AreaType School  Fatalities  Wounded  \\\n",
       "0    3/27/90     Brooklyn    New York       NaN      C           0      1.0   \n",
       "1    5/20/90  Centerville   Tennessee  suburban     HS           1      NaN   \n",
       "2    8/26/90    Las Vegas      Nevada     urban     HS           1      NaN   \n",
       "3    9/11/90  San Antonio       Texas       NaN     HS           0      3.0   \n",
       "4     1/8/91   Richardson       Texas     urban     HS           0      NaN   \n",
       "..       ...          ...         ...       ...    ...         ...      ...   \n",
       "690  1/14/20     Bellaire       Texas       NaN     HS           1      0.0   \n",
       "691  1/14/20   Fort Worth       Texas       NaN     HS           0      2.0   \n",
       "692  1/23/20       Oxnard  California       NaN     ES           0      1.0   \n",
       "693   2/3/20     Commerce       Texas       NaN      C           2      1.0   \n",
       "694  9/16/20       Sonora  California       NaN     HS           1      0.0   \n",
       "\n",
       "    Dupe Source                                               Desc  \n",
       "0    NaN   Wikp  A black youth was taunted with racial slurs by...  \n",
       "1    NaN    Pah                                                NaN  \n",
       "2    NaN    Pah                                                NaN  \n",
       "3    NaN   Wikp  3 students were wounded when gunfire broke out...  \n",
       "4    NaN    Pah                                                NaN  \n",
       "..   ...    ...                                                ...  \n",
       "690  NaN   Wikp  A 19-year old student was shot in the chest an...  \n",
       "691  NaN   Wikp  An adult male and a 10-year old child were inj...  \n",
       "692  NaN   Wikp                                                NaN  \n",
       "693  NaN   Wikp  Jacques Dshawn Smith, 21, gained access to Pri...  \n",
       "694  NaN   Wikp  At Sonora High School in downtown Sonora, stud...  \n",
       "\n",
       "[695 rows x 10 columns]"
      ]
     },
     "execution_count": 3,
     "metadata": {},
     "output_type": "execute_result"
    }
   ],
   "source": [
    "df = pd.read_csv(\"pah_wikp_combo.csv\",encoding='utf8')\n",
    "df"
   ]
  },
  {
   "cell_type": "markdown",
   "metadata": {},
   "source": [
    "El utf8 se utiliza generalmente para simbolos extraños.\n",
    "SCHOOL --> C = universidad, HS = escuela secundaria, MS = escuela intermedia, ES = escuela primaria, - = desconocido\n",
    "AREATYPE --> urban=urbano, suburban=suburbano, NaN=otros\n",
    "WOUNDED --> NaN=no hubo ningun herido"
   ]
  },
  {
   "cell_type": "markdown",
   "metadata": {},
   "source": [
    "## 2.- Visualización de datos"
   ]
  },
  {
   "cell_type": "markdown",
   "metadata": {},
   "source": [
    "Una vez que ya tenemos cargada nuestra base de datos al notebook, podemos empezar a manipularla. Para poder fijar el objetivo de nuestra limpieza, primero tenemos que revisar cuales son los datos que conforman la base de datos "
   ]
  },
  {
   "cell_type": "code",
   "execution_count": 4,
   "metadata": {},
   "outputs": [
    {
     "data": {
      "text/plain": [
       "(695, 10)"
      ]
     },
     "execution_count": 4,
     "metadata": {},
     "output_type": "execute_result"
    }
   ],
   "source": [
    "df.shape"
   ]
  },
  {
   "cell_type": "markdown",
   "metadata": {},
   "source": [
    "Con esta instrucción de shape nos enteramos de cuantas filas y cuantas columnas cuenta nuestra base de datos "
   ]
  },
  {
   "cell_type": "code",
   "execution_count": 5,
   "metadata": {
    "scrolled": true
   },
   "outputs": [
    {
     "data": {
      "text/html": [
       "<div>\n",
       "<style scoped>\n",
       "    .dataframe tbody tr th:only-of-type {\n",
       "        vertical-align: middle;\n",
       "    }\n",
       "\n",
       "    .dataframe tbody tr th {\n",
       "        vertical-align: top;\n",
       "    }\n",
       "\n",
       "    .dataframe thead th {\n",
       "        text-align: right;\n",
       "    }\n",
       "</style>\n",
       "<table border=\"1\" class=\"dataframe\">\n",
       "  <thead>\n",
       "    <tr style=\"text-align: right;\">\n",
       "      <th></th>\n",
       "      <th>Date</th>\n",
       "      <th>City</th>\n",
       "      <th>State</th>\n",
       "      <th>AreaType</th>\n",
       "      <th>School</th>\n",
       "      <th>Fatalities</th>\n",
       "      <th>Wounded</th>\n",
       "      <th>Dupe</th>\n",
       "      <th>Source</th>\n",
       "      <th>Desc</th>\n",
       "    </tr>\n",
       "  </thead>\n",
       "  <tbody>\n",
       "    <tr>\n",
       "      <th>0</th>\n",
       "      <td>3/27/90</td>\n",
       "      <td>Brooklyn</td>\n",
       "      <td>New York</td>\n",
       "      <td>NaN</td>\n",
       "      <td>C</td>\n",
       "      <td>0</td>\n",
       "      <td>1.0</td>\n",
       "      <td>NaN</td>\n",
       "      <td>Wikp</td>\n",
       "      <td>A black youth was taunted with racial slurs by...</td>\n",
       "    </tr>\n",
       "    <tr>\n",
       "      <th>1</th>\n",
       "      <td>5/20/90</td>\n",
       "      <td>Centerville</td>\n",
       "      <td>Tennessee</td>\n",
       "      <td>suburban</td>\n",
       "      <td>HS</td>\n",
       "      <td>1</td>\n",
       "      <td>NaN</td>\n",
       "      <td>NaN</td>\n",
       "      <td>Pah</td>\n",
       "      <td>NaN</td>\n",
       "    </tr>\n",
       "    <tr>\n",
       "      <th>2</th>\n",
       "      <td>8/26/90</td>\n",
       "      <td>Las Vegas</td>\n",
       "      <td>Nevada</td>\n",
       "      <td>urban</td>\n",
       "      <td>HS</td>\n",
       "      <td>1</td>\n",
       "      <td>NaN</td>\n",
       "      <td>NaN</td>\n",
       "      <td>Pah</td>\n",
       "      <td>NaN</td>\n",
       "    </tr>\n",
       "    <tr>\n",
       "      <th>3</th>\n",
       "      <td>9/11/90</td>\n",
       "      <td>San Antonio</td>\n",
       "      <td>Texas</td>\n",
       "      <td>NaN</td>\n",
       "      <td>HS</td>\n",
       "      <td>0</td>\n",
       "      <td>3.0</td>\n",
       "      <td>NaN</td>\n",
       "      <td>Wikp</td>\n",
       "      <td>3 students were wounded when gunfire broke out...</td>\n",
       "    </tr>\n",
       "    <tr>\n",
       "      <th>4</th>\n",
       "      <td>1/8/91</td>\n",
       "      <td>Richardson</td>\n",
       "      <td>Texas</td>\n",
       "      <td>urban</td>\n",
       "      <td>HS</td>\n",
       "      <td>0</td>\n",
       "      <td>NaN</td>\n",
       "      <td>NaN</td>\n",
       "      <td>Pah</td>\n",
       "      <td>NaN</td>\n",
       "    </tr>\n",
       "  </tbody>\n",
       "</table>\n",
       "</div>"
      ],
      "text/plain": [
       "      Date         City      State  AreaType School  Fatalities  Wounded Dupe  \\\n",
       "0  3/27/90     Brooklyn   New York       NaN      C           0      1.0  NaN   \n",
       "1  5/20/90  Centerville  Tennessee  suburban     HS           1      NaN  NaN   \n",
       "2  8/26/90    Las Vegas     Nevada     urban     HS           1      NaN  NaN   \n",
       "3  9/11/90  San Antonio      Texas       NaN     HS           0      3.0  NaN   \n",
       "4   1/8/91   Richardson      Texas     urban     HS           0      NaN  NaN   \n",
       "\n",
       "  Source                                               Desc  \n",
       "0   Wikp  A black youth was taunted with racial slurs by...  \n",
       "1    Pah                                                NaN  \n",
       "2    Pah                                                NaN  \n",
       "3   Wikp  3 students were wounded when gunfire broke out...  \n",
       "4    Pah                                                NaN  "
      ]
     },
     "execution_count": 5,
     "metadata": {},
     "output_type": "execute_result"
    }
   ],
   "source": [
    "df.head()"
   ]
  },
  {
   "cell_type": "markdown",
   "metadata": {},
   "source": [
    " Nos muestras los datos de los \"primeros\" 5 renglones "
   ]
  },
  {
   "cell_type": "code",
   "execution_count": 6,
   "metadata": {},
   "outputs": [
    {
     "data": {
      "text/html": [
       "<div>\n",
       "<style scoped>\n",
       "    .dataframe tbody tr th:only-of-type {\n",
       "        vertical-align: middle;\n",
       "    }\n",
       "\n",
       "    .dataframe tbody tr th {\n",
       "        vertical-align: top;\n",
       "    }\n",
       "\n",
       "    .dataframe thead th {\n",
       "        text-align: right;\n",
       "    }\n",
       "</style>\n",
       "<table border=\"1\" class=\"dataframe\">\n",
       "  <thead>\n",
       "    <tr style=\"text-align: right;\">\n",
       "      <th></th>\n",
       "      <th>Date</th>\n",
       "      <th>City</th>\n",
       "      <th>State</th>\n",
       "      <th>AreaType</th>\n",
       "      <th>School</th>\n",
       "      <th>Fatalities</th>\n",
       "      <th>Wounded</th>\n",
       "      <th>Dupe</th>\n",
       "      <th>Source</th>\n",
       "      <th>Desc</th>\n",
       "    </tr>\n",
       "  </thead>\n",
       "  <tbody>\n",
       "    <tr>\n",
       "      <th>690</th>\n",
       "      <td>1/14/20</td>\n",
       "      <td>Bellaire</td>\n",
       "      <td>Texas</td>\n",
       "      <td>NaN</td>\n",
       "      <td>HS</td>\n",
       "      <td>1</td>\n",
       "      <td>0.0</td>\n",
       "      <td>NaN</td>\n",
       "      <td>Wikp</td>\n",
       "      <td>A 19-year old student was shot in the chest an...</td>\n",
       "    </tr>\n",
       "    <tr>\n",
       "      <th>691</th>\n",
       "      <td>1/14/20</td>\n",
       "      <td>Fort Worth</td>\n",
       "      <td>Texas</td>\n",
       "      <td>NaN</td>\n",
       "      <td>HS</td>\n",
       "      <td>0</td>\n",
       "      <td>2.0</td>\n",
       "      <td>NaN</td>\n",
       "      <td>Wikp</td>\n",
       "      <td>An adult male and a 10-year old child were inj...</td>\n",
       "    </tr>\n",
       "    <tr>\n",
       "      <th>692</th>\n",
       "      <td>1/23/20</td>\n",
       "      <td>Oxnard</td>\n",
       "      <td>California</td>\n",
       "      <td>NaN</td>\n",
       "      <td>ES</td>\n",
       "      <td>0</td>\n",
       "      <td>1.0</td>\n",
       "      <td>NaN</td>\n",
       "      <td>Wikp</td>\n",
       "      <td>NaN</td>\n",
       "    </tr>\n",
       "    <tr>\n",
       "      <th>693</th>\n",
       "      <td>2/3/20</td>\n",
       "      <td>Commerce</td>\n",
       "      <td>Texas</td>\n",
       "      <td>NaN</td>\n",
       "      <td>C</td>\n",
       "      <td>2</td>\n",
       "      <td>1.0</td>\n",
       "      <td>NaN</td>\n",
       "      <td>Wikp</td>\n",
       "      <td>Jacques Dshawn Smith, 21, gained access to Pri...</td>\n",
       "    </tr>\n",
       "    <tr>\n",
       "      <th>694</th>\n",
       "      <td>9/16/20</td>\n",
       "      <td>Sonora</td>\n",
       "      <td>California</td>\n",
       "      <td>NaN</td>\n",
       "      <td>HS</td>\n",
       "      <td>1</td>\n",
       "      <td>0.0</td>\n",
       "      <td>NaN</td>\n",
       "      <td>Wikp</td>\n",
       "      <td>At Sonora High School in downtown Sonora, stud...</td>\n",
       "    </tr>\n",
       "  </tbody>\n",
       "</table>\n",
       "</div>"
      ],
      "text/plain": [
       "        Date        City       State AreaType School  Fatalities  Wounded  \\\n",
       "690  1/14/20    Bellaire       Texas      NaN     HS           1      0.0   \n",
       "691  1/14/20  Fort Worth       Texas      NaN     HS           0      2.0   \n",
       "692  1/23/20      Oxnard  California      NaN     ES           0      1.0   \n",
       "693   2/3/20    Commerce       Texas      NaN      C           2      1.0   \n",
       "694  9/16/20      Sonora  California      NaN     HS           1      0.0   \n",
       "\n",
       "    Dupe Source                                               Desc  \n",
       "690  NaN   Wikp  A 19-year old student was shot in the chest an...  \n",
       "691  NaN   Wikp  An adult male and a 10-year old child were inj...  \n",
       "692  NaN   Wikp                                                NaN  \n",
       "693  NaN   Wikp  Jacques Dshawn Smith, 21, gained access to Pri...  \n",
       "694  NaN   Wikp  At Sonora High School in downtown Sonora, stud...  "
      ]
     },
     "execution_count": 6,
     "metadata": {},
     "output_type": "execute_result"
    }
   ],
   "source": [
    "df.tail()"
   ]
  },
  {
   "cell_type": "markdown",
   "metadata": {},
   "source": [
    "  Nos muestras los datos de los \"ultimos\" 5 renglones "
   ]
  },
  {
   "cell_type": "code",
   "execution_count": 7,
   "metadata": {},
   "outputs": [
    {
     "data": {
      "text/plain": [
       "Index(['Date', 'City', 'State', 'AreaType', 'School', 'Fatalities', 'Wounded',\n",
       "       'Dupe', 'Source', 'Desc'],\n",
       "      dtype='object')"
      ]
     },
     "execution_count": 7,
     "metadata": {},
     "output_type": "execute_result"
    }
   ],
   "source": [
    "df.columns"
   ]
  },
  {
   "cell_type": "markdown",
   "metadata": {},
   "source": [
    "### 5.- Traducir el nombre de las columnas"
   ]
  },
  {
   "cell_type": "code",
   "execution_count": 8,
   "metadata": {},
   "outputs": [
    {
     "data": {
      "text/plain": [
       "Index(['Fecha', 'Ciudad', 'Estado', 'Tipo_de_área', 'Escuela', 'Muertes',\n",
       "       'Heridos', 'True', 'Wikp_o_Pah', 'Descripción'],\n",
       "      dtype='object')"
      ]
     },
     "execution_count": 8,
     "metadata": {},
     "output_type": "execute_result"
    }
   ],
   "source": [
    "df.columns = ['Fecha','Ciudad','Estado','Tipo_de_área','Escuela','Muertes','Heridos','True','Wikp_o_Pah','Descripción']\n",
    "df.columns"
   ]
  },
  {
   "cell_type": "code",
   "execution_count": 9,
   "metadata": {},
   "outputs": [
    {
     "data": {
      "text/html": [
       "<div>\n",
       "<style scoped>\n",
       "    .dataframe tbody tr th:only-of-type {\n",
       "        vertical-align: middle;\n",
       "    }\n",
       "\n",
       "    .dataframe tbody tr th {\n",
       "        vertical-align: top;\n",
       "    }\n",
       "\n",
       "    .dataframe thead th {\n",
       "        text-align: right;\n",
       "    }\n",
       "</style>\n",
       "<table border=\"1\" class=\"dataframe\">\n",
       "  <thead>\n",
       "    <tr style=\"text-align: right;\">\n",
       "      <th></th>\n",
       "      <th>Fecha</th>\n",
       "      <th>Ciudad</th>\n",
       "      <th>Estado</th>\n",
       "      <th>Tipo_de_área</th>\n",
       "      <th>Escuela</th>\n",
       "      <th>Muertes</th>\n",
       "      <th>Heridos</th>\n",
       "      <th>True</th>\n",
       "      <th>Wikp_o_Pah</th>\n",
       "      <th>Descripción</th>\n",
       "    </tr>\n",
       "  </thead>\n",
       "  <tbody>\n",
       "    <tr>\n",
       "      <th>0</th>\n",
       "      <td>3/27/90</td>\n",
       "      <td>Brooklyn</td>\n",
       "      <td>New York</td>\n",
       "      <td>NaN</td>\n",
       "      <td>C</td>\n",
       "      <td>0</td>\n",
       "      <td>1.0</td>\n",
       "      <td>NaN</td>\n",
       "      <td>Wikp</td>\n",
       "      <td>A black youth was taunted with racial slurs by...</td>\n",
       "    </tr>\n",
       "    <tr>\n",
       "      <th>1</th>\n",
       "      <td>5/20/90</td>\n",
       "      <td>Centerville</td>\n",
       "      <td>Tennessee</td>\n",
       "      <td>suburban</td>\n",
       "      <td>HS</td>\n",
       "      <td>1</td>\n",
       "      <td>NaN</td>\n",
       "      <td>NaN</td>\n",
       "      <td>Pah</td>\n",
       "      <td>NaN</td>\n",
       "    </tr>\n",
       "    <tr>\n",
       "      <th>2</th>\n",
       "      <td>8/26/90</td>\n",
       "      <td>Las Vegas</td>\n",
       "      <td>Nevada</td>\n",
       "      <td>urban</td>\n",
       "      <td>HS</td>\n",
       "      <td>1</td>\n",
       "      <td>NaN</td>\n",
       "      <td>NaN</td>\n",
       "      <td>Pah</td>\n",
       "      <td>NaN</td>\n",
       "    </tr>\n",
       "    <tr>\n",
       "      <th>3</th>\n",
       "      <td>9/11/90</td>\n",
       "      <td>San Antonio</td>\n",
       "      <td>Texas</td>\n",
       "      <td>NaN</td>\n",
       "      <td>HS</td>\n",
       "      <td>0</td>\n",
       "      <td>3.0</td>\n",
       "      <td>NaN</td>\n",
       "      <td>Wikp</td>\n",
       "      <td>3 students were wounded when gunfire broke out...</td>\n",
       "    </tr>\n",
       "    <tr>\n",
       "      <th>4</th>\n",
       "      <td>1/8/91</td>\n",
       "      <td>Richardson</td>\n",
       "      <td>Texas</td>\n",
       "      <td>urban</td>\n",
       "      <td>HS</td>\n",
       "      <td>0</td>\n",
       "      <td>NaN</td>\n",
       "      <td>NaN</td>\n",
       "      <td>Pah</td>\n",
       "      <td>NaN</td>\n",
       "    </tr>\n",
       "    <tr>\n",
       "      <th>...</th>\n",
       "      <td>...</td>\n",
       "      <td>...</td>\n",
       "      <td>...</td>\n",
       "      <td>...</td>\n",
       "      <td>...</td>\n",
       "      <td>...</td>\n",
       "      <td>...</td>\n",
       "      <td>...</td>\n",
       "      <td>...</td>\n",
       "      <td>...</td>\n",
       "    </tr>\n",
       "    <tr>\n",
       "      <th>690</th>\n",
       "      <td>1/14/20</td>\n",
       "      <td>Bellaire</td>\n",
       "      <td>Texas</td>\n",
       "      <td>NaN</td>\n",
       "      <td>HS</td>\n",
       "      <td>1</td>\n",
       "      <td>0.0</td>\n",
       "      <td>NaN</td>\n",
       "      <td>Wikp</td>\n",
       "      <td>A 19-year old student was shot in the chest an...</td>\n",
       "    </tr>\n",
       "    <tr>\n",
       "      <th>691</th>\n",
       "      <td>1/14/20</td>\n",
       "      <td>Fort Worth</td>\n",
       "      <td>Texas</td>\n",
       "      <td>NaN</td>\n",
       "      <td>HS</td>\n",
       "      <td>0</td>\n",
       "      <td>2.0</td>\n",
       "      <td>NaN</td>\n",
       "      <td>Wikp</td>\n",
       "      <td>An adult male and a 10-year old child were inj...</td>\n",
       "    </tr>\n",
       "    <tr>\n",
       "      <th>692</th>\n",
       "      <td>1/23/20</td>\n",
       "      <td>Oxnard</td>\n",
       "      <td>California</td>\n",
       "      <td>NaN</td>\n",
       "      <td>ES</td>\n",
       "      <td>0</td>\n",
       "      <td>1.0</td>\n",
       "      <td>NaN</td>\n",
       "      <td>Wikp</td>\n",
       "      <td>NaN</td>\n",
       "    </tr>\n",
       "    <tr>\n",
       "      <th>693</th>\n",
       "      <td>2/3/20</td>\n",
       "      <td>Commerce</td>\n",
       "      <td>Texas</td>\n",
       "      <td>NaN</td>\n",
       "      <td>C</td>\n",
       "      <td>2</td>\n",
       "      <td>1.0</td>\n",
       "      <td>NaN</td>\n",
       "      <td>Wikp</td>\n",
       "      <td>Jacques Dshawn Smith, 21, gained access to Pri...</td>\n",
       "    </tr>\n",
       "    <tr>\n",
       "      <th>694</th>\n",
       "      <td>9/16/20</td>\n",
       "      <td>Sonora</td>\n",
       "      <td>California</td>\n",
       "      <td>NaN</td>\n",
       "      <td>HS</td>\n",
       "      <td>1</td>\n",
       "      <td>0.0</td>\n",
       "      <td>NaN</td>\n",
       "      <td>Wikp</td>\n",
       "      <td>At Sonora High School in downtown Sonora, stud...</td>\n",
       "    </tr>\n",
       "  </tbody>\n",
       "</table>\n",
       "<p>695 rows × 10 columns</p>\n",
       "</div>"
      ],
      "text/plain": [
       "       Fecha       Ciudad      Estado Tipo_de_área Escuela  Muertes  Heridos  \\\n",
       "0    3/27/90     Brooklyn    New York          NaN       C        0      1.0   \n",
       "1    5/20/90  Centerville   Tennessee     suburban      HS        1      NaN   \n",
       "2    8/26/90    Las Vegas      Nevada        urban      HS        1      NaN   \n",
       "3    9/11/90  San Antonio       Texas          NaN      HS        0      3.0   \n",
       "4     1/8/91   Richardson       Texas        urban      HS        0      NaN   \n",
       "..       ...          ...         ...          ...     ...      ...      ...   \n",
       "690  1/14/20     Bellaire       Texas          NaN      HS        1      0.0   \n",
       "691  1/14/20   Fort Worth       Texas          NaN      HS        0      2.0   \n",
       "692  1/23/20       Oxnard  California          NaN      ES        0      1.0   \n",
       "693   2/3/20     Commerce       Texas          NaN       C        2      1.0   \n",
       "694  9/16/20       Sonora  California          NaN      HS        1      0.0   \n",
       "\n",
       "    True Wikp_o_Pah                                        Descripción  \n",
       "0    NaN       Wikp  A black youth was taunted with racial slurs by...  \n",
       "1    NaN        Pah                                                NaN  \n",
       "2    NaN        Pah                                                NaN  \n",
       "3    NaN       Wikp  3 students were wounded when gunfire broke out...  \n",
       "4    NaN        Pah                                                NaN  \n",
       "..   ...        ...                                                ...  \n",
       "690  NaN       Wikp  A 19-year old student was shot in the chest an...  \n",
       "691  NaN       Wikp  An adult male and a 10-year old child were inj...  \n",
       "692  NaN       Wikp                                                NaN  \n",
       "693  NaN       Wikp  Jacques Dshawn Smith, 21, gained access to Pri...  \n",
       "694  NaN       Wikp  At Sonora High School in downtown Sonora, stud...  \n",
       "\n",
       "[695 rows x 10 columns]"
      ]
     },
     "execution_count": 9,
     "metadata": {},
     "output_type": "execute_result"
    }
   ],
   "source": [
    "df"
   ]
  },
  {
   "cell_type": "markdown",
   "metadata": {},
   "source": [
    " En este caso no cambie el nombre de las columnas lo unico que hice fue traducirlas "
   ]
  },
  {
   "cell_type": "code",
   "execution_count": 10,
   "metadata": {},
   "outputs": [
    {
     "data": {
      "text/plain": [
       "Fecha            object\n",
       "Ciudad           object\n",
       "Estado           object\n",
       "Tipo_de_área     object\n",
       "Escuela          object\n",
       "Muertes           int64\n",
       "Heridos         float64\n",
       "True             object\n",
       "Wikp_o_Pah       object\n",
       "Descripción      object\n",
       "dtype: object"
      ]
     },
     "execution_count": 10,
     "metadata": {},
     "output_type": "execute_result"
    }
   ],
   "source": [
    "df.dtypes"
   ]
  },
  {
   "cell_type": "markdown",
   "metadata": {},
   "source": [
    "Tipo de dato que contiene cada columna "
   ]
  },
  {
   "cell_type": "markdown",
   "metadata": {},
   "source": [
    "### Convierto los NaN a 0 o a \"Sin descripción\""
   ]
  },
  {
   "cell_type": "code",
   "execution_count": 11,
   "metadata": {},
   "outputs": [
    {
     "data": {
      "text/html": [
       "<div>\n",
       "<style scoped>\n",
       "    .dataframe tbody tr th:only-of-type {\n",
       "        vertical-align: middle;\n",
       "    }\n",
       "\n",
       "    .dataframe tbody tr th {\n",
       "        vertical-align: top;\n",
       "    }\n",
       "\n",
       "    .dataframe thead th {\n",
       "        text-align: right;\n",
       "    }\n",
       "</style>\n",
       "<table border=\"1\" class=\"dataframe\">\n",
       "  <thead>\n",
       "    <tr style=\"text-align: right;\">\n",
       "      <th></th>\n",
       "      <th>Fecha</th>\n",
       "      <th>Ciudad</th>\n",
       "      <th>Estado</th>\n",
       "      <th>Tipo_de_área</th>\n",
       "      <th>Escuela</th>\n",
       "      <th>Muertes</th>\n",
       "      <th>Heridos</th>\n",
       "      <th>True</th>\n",
       "      <th>Wikp_o_Pah</th>\n",
       "      <th>Descripción</th>\n",
       "    </tr>\n",
       "  </thead>\n",
       "  <tbody>\n",
       "    <tr>\n",
       "      <th>0</th>\n",
       "      <td>3/27/90</td>\n",
       "      <td>Brooklyn</td>\n",
       "      <td>New York</td>\n",
       "      <td>NaN</td>\n",
       "      <td>C</td>\n",
       "      <td>0</td>\n",
       "      <td>1.0</td>\n",
       "      <td>NaN</td>\n",
       "      <td>Wikp</td>\n",
       "      <td>A black youth was taunted with racial slurs by...</td>\n",
       "    </tr>\n",
       "    <tr>\n",
       "      <th>1</th>\n",
       "      <td>5/20/90</td>\n",
       "      <td>Centerville</td>\n",
       "      <td>Tennessee</td>\n",
       "      <td>suburban</td>\n",
       "      <td>HS</td>\n",
       "      <td>1</td>\n",
       "      <td>0.0</td>\n",
       "      <td>NaN</td>\n",
       "      <td>Pah</td>\n",
       "      <td>NaN</td>\n",
       "    </tr>\n",
       "    <tr>\n",
       "      <th>2</th>\n",
       "      <td>8/26/90</td>\n",
       "      <td>Las Vegas</td>\n",
       "      <td>Nevada</td>\n",
       "      <td>urban</td>\n",
       "      <td>HS</td>\n",
       "      <td>1</td>\n",
       "      <td>0.0</td>\n",
       "      <td>NaN</td>\n",
       "      <td>Pah</td>\n",
       "      <td>NaN</td>\n",
       "    </tr>\n",
       "    <tr>\n",
       "      <th>3</th>\n",
       "      <td>9/11/90</td>\n",
       "      <td>San Antonio</td>\n",
       "      <td>Texas</td>\n",
       "      <td>NaN</td>\n",
       "      <td>HS</td>\n",
       "      <td>0</td>\n",
       "      <td>3.0</td>\n",
       "      <td>NaN</td>\n",
       "      <td>Wikp</td>\n",
       "      <td>3 students were wounded when gunfire broke out...</td>\n",
       "    </tr>\n",
       "    <tr>\n",
       "      <th>4</th>\n",
       "      <td>1/8/91</td>\n",
       "      <td>Richardson</td>\n",
       "      <td>Texas</td>\n",
       "      <td>urban</td>\n",
       "      <td>HS</td>\n",
       "      <td>0</td>\n",
       "      <td>0.0</td>\n",
       "      <td>NaN</td>\n",
       "      <td>Pah</td>\n",
       "      <td>NaN</td>\n",
       "    </tr>\n",
       "    <tr>\n",
       "      <th>...</th>\n",
       "      <td>...</td>\n",
       "      <td>...</td>\n",
       "      <td>...</td>\n",
       "      <td>...</td>\n",
       "      <td>...</td>\n",
       "      <td>...</td>\n",
       "      <td>...</td>\n",
       "      <td>...</td>\n",
       "      <td>...</td>\n",
       "      <td>...</td>\n",
       "    </tr>\n",
       "    <tr>\n",
       "      <th>690</th>\n",
       "      <td>1/14/20</td>\n",
       "      <td>Bellaire</td>\n",
       "      <td>Texas</td>\n",
       "      <td>NaN</td>\n",
       "      <td>HS</td>\n",
       "      <td>1</td>\n",
       "      <td>0.0</td>\n",
       "      <td>NaN</td>\n",
       "      <td>Wikp</td>\n",
       "      <td>A 19-year old student was shot in the chest an...</td>\n",
       "    </tr>\n",
       "    <tr>\n",
       "      <th>691</th>\n",
       "      <td>1/14/20</td>\n",
       "      <td>Fort Worth</td>\n",
       "      <td>Texas</td>\n",
       "      <td>NaN</td>\n",
       "      <td>HS</td>\n",
       "      <td>0</td>\n",
       "      <td>2.0</td>\n",
       "      <td>NaN</td>\n",
       "      <td>Wikp</td>\n",
       "      <td>An adult male and a 10-year old child were inj...</td>\n",
       "    </tr>\n",
       "    <tr>\n",
       "      <th>692</th>\n",
       "      <td>1/23/20</td>\n",
       "      <td>Oxnard</td>\n",
       "      <td>California</td>\n",
       "      <td>NaN</td>\n",
       "      <td>ES</td>\n",
       "      <td>0</td>\n",
       "      <td>1.0</td>\n",
       "      <td>NaN</td>\n",
       "      <td>Wikp</td>\n",
       "      <td>NaN</td>\n",
       "    </tr>\n",
       "    <tr>\n",
       "      <th>693</th>\n",
       "      <td>2/3/20</td>\n",
       "      <td>Commerce</td>\n",
       "      <td>Texas</td>\n",
       "      <td>NaN</td>\n",
       "      <td>C</td>\n",
       "      <td>2</td>\n",
       "      <td>1.0</td>\n",
       "      <td>NaN</td>\n",
       "      <td>Wikp</td>\n",
       "      <td>Jacques Dshawn Smith, 21, gained access to Pri...</td>\n",
       "    </tr>\n",
       "    <tr>\n",
       "      <th>694</th>\n",
       "      <td>9/16/20</td>\n",
       "      <td>Sonora</td>\n",
       "      <td>California</td>\n",
       "      <td>NaN</td>\n",
       "      <td>HS</td>\n",
       "      <td>1</td>\n",
       "      <td>0.0</td>\n",
       "      <td>NaN</td>\n",
       "      <td>Wikp</td>\n",
       "      <td>At Sonora High School in downtown Sonora, stud...</td>\n",
       "    </tr>\n",
       "  </tbody>\n",
       "</table>\n",
       "<p>695 rows × 10 columns</p>\n",
       "</div>"
      ],
      "text/plain": [
       "       Fecha       Ciudad      Estado Tipo_de_área Escuela  Muertes  Heridos  \\\n",
       "0    3/27/90     Brooklyn    New York          NaN       C        0      1.0   \n",
       "1    5/20/90  Centerville   Tennessee     suburban      HS        1      0.0   \n",
       "2    8/26/90    Las Vegas      Nevada        urban      HS        1      0.0   \n",
       "3    9/11/90  San Antonio       Texas          NaN      HS        0      3.0   \n",
       "4     1/8/91   Richardson       Texas        urban      HS        0      0.0   \n",
       "..       ...          ...         ...          ...     ...      ...      ...   \n",
       "690  1/14/20     Bellaire       Texas          NaN      HS        1      0.0   \n",
       "691  1/14/20   Fort Worth       Texas          NaN      HS        0      2.0   \n",
       "692  1/23/20       Oxnard  California          NaN      ES        0      1.0   \n",
       "693   2/3/20     Commerce       Texas          NaN       C        2      1.0   \n",
       "694  9/16/20       Sonora  California          NaN      HS        1      0.0   \n",
       "\n",
       "    True Wikp_o_Pah                                        Descripción  \n",
       "0    NaN       Wikp  A black youth was taunted with racial slurs by...  \n",
       "1    NaN        Pah                                                NaN  \n",
       "2    NaN        Pah                                                NaN  \n",
       "3    NaN       Wikp  3 students were wounded when gunfire broke out...  \n",
       "4    NaN        Pah                                                NaN  \n",
       "..   ...        ...                                                ...  \n",
       "690  NaN       Wikp  A 19-year old student was shot in the chest an...  \n",
       "691  NaN       Wikp  An adult male and a 10-year old child were inj...  \n",
       "692  NaN       Wikp                                                NaN  \n",
       "693  NaN       Wikp  Jacques Dshawn Smith, 21, gained access to Pri...  \n",
       "694  NaN       Wikp  At Sonora High School in downtown Sonora, stud...  \n",
       "\n",
       "[695 rows x 10 columns]"
      ]
     },
     "execution_count": 11,
     "metadata": {},
     "output_type": "execute_result"
    }
   ],
   "source": [
    "df['Heridos'].fillna(0,inplace=True)\n",
    "df"
   ]
  },
  {
   "cell_type": "markdown",
   "metadata": {},
   "source": [
    "Convierto los NaN de la Columna Heridos a 0 "
   ]
  },
  {
   "cell_type": "code",
   "execution_count": 12,
   "metadata": {},
   "outputs": [
    {
     "data": {
      "text/html": [
       "<div>\n",
       "<style scoped>\n",
       "    .dataframe tbody tr th:only-of-type {\n",
       "        vertical-align: middle;\n",
       "    }\n",
       "\n",
       "    .dataframe tbody tr th {\n",
       "        vertical-align: top;\n",
       "    }\n",
       "\n",
       "    .dataframe thead th {\n",
       "        text-align: right;\n",
       "    }\n",
       "</style>\n",
       "<table border=\"1\" class=\"dataframe\">\n",
       "  <thead>\n",
       "    <tr style=\"text-align: right;\">\n",
       "      <th></th>\n",
       "      <th>Fecha</th>\n",
       "      <th>Ciudad</th>\n",
       "      <th>Estado</th>\n",
       "      <th>Tipo_de_área</th>\n",
       "      <th>Escuela</th>\n",
       "      <th>Muertes</th>\n",
       "      <th>Heridos</th>\n",
       "      <th>True</th>\n",
       "      <th>Wikp_o_Pah</th>\n",
       "      <th>Descripción</th>\n",
       "    </tr>\n",
       "  </thead>\n",
       "  <tbody>\n",
       "    <tr>\n",
       "      <th>0</th>\n",
       "      <td>3/27/90</td>\n",
       "      <td>Brooklyn</td>\n",
       "      <td>New York</td>\n",
       "      <td>NaN</td>\n",
       "      <td>C</td>\n",
       "      <td>0</td>\n",
       "      <td>1.0</td>\n",
       "      <td>0</td>\n",
       "      <td>Wikp</td>\n",
       "      <td>A black youth was taunted with racial slurs by...</td>\n",
       "    </tr>\n",
       "    <tr>\n",
       "      <th>1</th>\n",
       "      <td>5/20/90</td>\n",
       "      <td>Centerville</td>\n",
       "      <td>Tennessee</td>\n",
       "      <td>suburban</td>\n",
       "      <td>HS</td>\n",
       "      <td>1</td>\n",
       "      <td>0.0</td>\n",
       "      <td>0</td>\n",
       "      <td>Pah</td>\n",
       "      <td>NaN</td>\n",
       "    </tr>\n",
       "    <tr>\n",
       "      <th>2</th>\n",
       "      <td>8/26/90</td>\n",
       "      <td>Las Vegas</td>\n",
       "      <td>Nevada</td>\n",
       "      <td>urban</td>\n",
       "      <td>HS</td>\n",
       "      <td>1</td>\n",
       "      <td>0.0</td>\n",
       "      <td>0</td>\n",
       "      <td>Pah</td>\n",
       "      <td>NaN</td>\n",
       "    </tr>\n",
       "    <tr>\n",
       "      <th>3</th>\n",
       "      <td>9/11/90</td>\n",
       "      <td>San Antonio</td>\n",
       "      <td>Texas</td>\n",
       "      <td>NaN</td>\n",
       "      <td>HS</td>\n",
       "      <td>0</td>\n",
       "      <td>3.0</td>\n",
       "      <td>0</td>\n",
       "      <td>Wikp</td>\n",
       "      <td>3 students were wounded when gunfire broke out...</td>\n",
       "    </tr>\n",
       "    <tr>\n",
       "      <th>4</th>\n",
       "      <td>1/8/91</td>\n",
       "      <td>Richardson</td>\n",
       "      <td>Texas</td>\n",
       "      <td>urban</td>\n",
       "      <td>HS</td>\n",
       "      <td>0</td>\n",
       "      <td>0.0</td>\n",
       "      <td>0</td>\n",
       "      <td>Pah</td>\n",
       "      <td>NaN</td>\n",
       "    </tr>\n",
       "    <tr>\n",
       "      <th>...</th>\n",
       "      <td>...</td>\n",
       "      <td>...</td>\n",
       "      <td>...</td>\n",
       "      <td>...</td>\n",
       "      <td>...</td>\n",
       "      <td>...</td>\n",
       "      <td>...</td>\n",
       "      <td>...</td>\n",
       "      <td>...</td>\n",
       "      <td>...</td>\n",
       "    </tr>\n",
       "    <tr>\n",
       "      <th>690</th>\n",
       "      <td>1/14/20</td>\n",
       "      <td>Bellaire</td>\n",
       "      <td>Texas</td>\n",
       "      <td>NaN</td>\n",
       "      <td>HS</td>\n",
       "      <td>1</td>\n",
       "      <td>0.0</td>\n",
       "      <td>0</td>\n",
       "      <td>Wikp</td>\n",
       "      <td>A 19-year old student was shot in the chest an...</td>\n",
       "    </tr>\n",
       "    <tr>\n",
       "      <th>691</th>\n",
       "      <td>1/14/20</td>\n",
       "      <td>Fort Worth</td>\n",
       "      <td>Texas</td>\n",
       "      <td>NaN</td>\n",
       "      <td>HS</td>\n",
       "      <td>0</td>\n",
       "      <td>2.0</td>\n",
       "      <td>0</td>\n",
       "      <td>Wikp</td>\n",
       "      <td>An adult male and a 10-year old child were inj...</td>\n",
       "    </tr>\n",
       "    <tr>\n",
       "      <th>692</th>\n",
       "      <td>1/23/20</td>\n",
       "      <td>Oxnard</td>\n",
       "      <td>California</td>\n",
       "      <td>NaN</td>\n",
       "      <td>ES</td>\n",
       "      <td>0</td>\n",
       "      <td>1.0</td>\n",
       "      <td>0</td>\n",
       "      <td>Wikp</td>\n",
       "      <td>NaN</td>\n",
       "    </tr>\n",
       "    <tr>\n",
       "      <th>693</th>\n",
       "      <td>2/3/20</td>\n",
       "      <td>Commerce</td>\n",
       "      <td>Texas</td>\n",
       "      <td>NaN</td>\n",
       "      <td>C</td>\n",
       "      <td>2</td>\n",
       "      <td>1.0</td>\n",
       "      <td>0</td>\n",
       "      <td>Wikp</td>\n",
       "      <td>Jacques Dshawn Smith, 21, gained access to Pri...</td>\n",
       "    </tr>\n",
       "    <tr>\n",
       "      <th>694</th>\n",
       "      <td>9/16/20</td>\n",
       "      <td>Sonora</td>\n",
       "      <td>California</td>\n",
       "      <td>NaN</td>\n",
       "      <td>HS</td>\n",
       "      <td>1</td>\n",
       "      <td>0.0</td>\n",
       "      <td>0</td>\n",
       "      <td>Wikp</td>\n",
       "      <td>At Sonora High School in downtown Sonora, stud...</td>\n",
       "    </tr>\n",
       "  </tbody>\n",
       "</table>\n",
       "<p>695 rows × 10 columns</p>\n",
       "</div>"
      ],
      "text/plain": [
       "       Fecha       Ciudad      Estado Tipo_de_área Escuela  Muertes  Heridos  \\\n",
       "0    3/27/90     Brooklyn    New York          NaN       C        0      1.0   \n",
       "1    5/20/90  Centerville   Tennessee     suburban      HS        1      0.0   \n",
       "2    8/26/90    Las Vegas      Nevada        urban      HS        1      0.0   \n",
       "3    9/11/90  San Antonio       Texas          NaN      HS        0      3.0   \n",
       "4     1/8/91   Richardson       Texas        urban      HS        0      0.0   \n",
       "..       ...          ...         ...          ...     ...      ...      ...   \n",
       "690  1/14/20     Bellaire       Texas          NaN      HS        1      0.0   \n",
       "691  1/14/20   Fort Worth       Texas          NaN      HS        0      2.0   \n",
       "692  1/23/20       Oxnard  California          NaN      ES        0      1.0   \n",
       "693   2/3/20     Commerce       Texas          NaN       C        2      1.0   \n",
       "694  9/16/20       Sonora  California          NaN      HS        1      0.0   \n",
       "\n",
       "    True Wikp_o_Pah                                        Descripción  \n",
       "0      0       Wikp  A black youth was taunted with racial slurs by...  \n",
       "1      0        Pah                                                NaN  \n",
       "2      0        Pah                                                NaN  \n",
       "3      0       Wikp  3 students were wounded when gunfire broke out...  \n",
       "4      0        Pah                                                NaN  \n",
       "..   ...        ...                                                ...  \n",
       "690    0       Wikp  A 19-year old student was shot in the chest an...  \n",
       "691    0       Wikp  An adult male and a 10-year old child were inj...  \n",
       "692    0       Wikp                                                NaN  \n",
       "693    0       Wikp  Jacques Dshawn Smith, 21, gained access to Pri...  \n",
       "694    0       Wikp  At Sonora High School in downtown Sonora, stud...  \n",
       "\n",
       "[695 rows x 10 columns]"
      ]
     },
     "execution_count": 12,
     "metadata": {},
     "output_type": "execute_result"
    }
   ],
   "source": [
    "df['True'].fillna(0,inplace=True)\n",
    "df"
   ]
  },
  {
   "cell_type": "markdown",
   "metadata": {},
   "source": [
    "Convierto los NaN de la columna True a cero "
   ]
  },
  {
   "cell_type": "code",
   "execution_count": 13,
   "metadata": {},
   "outputs": [
    {
     "data": {
      "text/html": [
       "<div>\n",
       "<style scoped>\n",
       "    .dataframe tbody tr th:only-of-type {\n",
       "        vertical-align: middle;\n",
       "    }\n",
       "\n",
       "    .dataframe tbody tr th {\n",
       "        vertical-align: top;\n",
       "    }\n",
       "\n",
       "    .dataframe thead th {\n",
       "        text-align: right;\n",
       "    }\n",
       "</style>\n",
       "<table border=\"1\" class=\"dataframe\">\n",
       "  <thead>\n",
       "    <tr style=\"text-align: right;\">\n",
       "      <th></th>\n",
       "      <th>Fecha</th>\n",
       "      <th>Ciudad</th>\n",
       "      <th>Estado</th>\n",
       "      <th>Tipo_de_área</th>\n",
       "      <th>Escuela</th>\n",
       "      <th>Muertes</th>\n",
       "      <th>Heridos</th>\n",
       "      <th>True</th>\n",
       "      <th>Wikp_o_Pah</th>\n",
       "      <th>Descripción</th>\n",
       "    </tr>\n",
       "  </thead>\n",
       "  <tbody>\n",
       "    <tr>\n",
       "      <th>0</th>\n",
       "      <td>3/27/90</td>\n",
       "      <td>Brooklyn</td>\n",
       "      <td>New York</td>\n",
       "      <td>NaN</td>\n",
       "      <td>C</td>\n",
       "      <td>0</td>\n",
       "      <td>1.0</td>\n",
       "      <td>0</td>\n",
       "      <td>Wikp</td>\n",
       "      <td>A black youth was taunted with racial slurs by...</td>\n",
       "    </tr>\n",
       "    <tr>\n",
       "      <th>1</th>\n",
       "      <td>5/20/90</td>\n",
       "      <td>Centerville</td>\n",
       "      <td>Tennessee</td>\n",
       "      <td>suburban</td>\n",
       "      <td>HS</td>\n",
       "      <td>1</td>\n",
       "      <td>0.0</td>\n",
       "      <td>0</td>\n",
       "      <td>Pah</td>\n",
       "      <td>Sin descripción</td>\n",
       "    </tr>\n",
       "    <tr>\n",
       "      <th>2</th>\n",
       "      <td>8/26/90</td>\n",
       "      <td>Las Vegas</td>\n",
       "      <td>Nevada</td>\n",
       "      <td>urban</td>\n",
       "      <td>HS</td>\n",
       "      <td>1</td>\n",
       "      <td>0.0</td>\n",
       "      <td>0</td>\n",
       "      <td>Pah</td>\n",
       "      <td>Sin descripción</td>\n",
       "    </tr>\n",
       "    <tr>\n",
       "      <th>3</th>\n",
       "      <td>9/11/90</td>\n",
       "      <td>San Antonio</td>\n",
       "      <td>Texas</td>\n",
       "      <td>NaN</td>\n",
       "      <td>HS</td>\n",
       "      <td>0</td>\n",
       "      <td>3.0</td>\n",
       "      <td>0</td>\n",
       "      <td>Wikp</td>\n",
       "      <td>3 students were wounded when gunfire broke out...</td>\n",
       "    </tr>\n",
       "    <tr>\n",
       "      <th>4</th>\n",
       "      <td>1/8/91</td>\n",
       "      <td>Richardson</td>\n",
       "      <td>Texas</td>\n",
       "      <td>urban</td>\n",
       "      <td>HS</td>\n",
       "      <td>0</td>\n",
       "      <td>0.0</td>\n",
       "      <td>0</td>\n",
       "      <td>Pah</td>\n",
       "      <td>Sin descripción</td>\n",
       "    </tr>\n",
       "    <tr>\n",
       "      <th>...</th>\n",
       "      <td>...</td>\n",
       "      <td>...</td>\n",
       "      <td>...</td>\n",
       "      <td>...</td>\n",
       "      <td>...</td>\n",
       "      <td>...</td>\n",
       "      <td>...</td>\n",
       "      <td>...</td>\n",
       "      <td>...</td>\n",
       "      <td>...</td>\n",
       "    </tr>\n",
       "    <tr>\n",
       "      <th>690</th>\n",
       "      <td>1/14/20</td>\n",
       "      <td>Bellaire</td>\n",
       "      <td>Texas</td>\n",
       "      <td>NaN</td>\n",
       "      <td>HS</td>\n",
       "      <td>1</td>\n",
       "      <td>0.0</td>\n",
       "      <td>0</td>\n",
       "      <td>Wikp</td>\n",
       "      <td>A 19-year old student was shot in the chest an...</td>\n",
       "    </tr>\n",
       "    <tr>\n",
       "      <th>691</th>\n",
       "      <td>1/14/20</td>\n",
       "      <td>Fort Worth</td>\n",
       "      <td>Texas</td>\n",
       "      <td>NaN</td>\n",
       "      <td>HS</td>\n",
       "      <td>0</td>\n",
       "      <td>2.0</td>\n",
       "      <td>0</td>\n",
       "      <td>Wikp</td>\n",
       "      <td>An adult male and a 10-year old child were inj...</td>\n",
       "    </tr>\n",
       "    <tr>\n",
       "      <th>692</th>\n",
       "      <td>1/23/20</td>\n",
       "      <td>Oxnard</td>\n",
       "      <td>California</td>\n",
       "      <td>NaN</td>\n",
       "      <td>ES</td>\n",
       "      <td>0</td>\n",
       "      <td>1.0</td>\n",
       "      <td>0</td>\n",
       "      <td>Wikp</td>\n",
       "      <td>Sin descripción</td>\n",
       "    </tr>\n",
       "    <tr>\n",
       "      <th>693</th>\n",
       "      <td>2/3/20</td>\n",
       "      <td>Commerce</td>\n",
       "      <td>Texas</td>\n",
       "      <td>NaN</td>\n",
       "      <td>C</td>\n",
       "      <td>2</td>\n",
       "      <td>1.0</td>\n",
       "      <td>0</td>\n",
       "      <td>Wikp</td>\n",
       "      <td>Jacques Dshawn Smith, 21, gained access to Pri...</td>\n",
       "    </tr>\n",
       "    <tr>\n",
       "      <th>694</th>\n",
       "      <td>9/16/20</td>\n",
       "      <td>Sonora</td>\n",
       "      <td>California</td>\n",
       "      <td>NaN</td>\n",
       "      <td>HS</td>\n",
       "      <td>1</td>\n",
       "      <td>0.0</td>\n",
       "      <td>0</td>\n",
       "      <td>Wikp</td>\n",
       "      <td>At Sonora High School in downtown Sonora, stud...</td>\n",
       "    </tr>\n",
       "  </tbody>\n",
       "</table>\n",
       "<p>695 rows × 10 columns</p>\n",
       "</div>"
      ],
      "text/plain": [
       "       Fecha       Ciudad      Estado Tipo_de_área Escuela  Muertes  Heridos  \\\n",
       "0    3/27/90     Brooklyn    New York          NaN       C        0      1.0   \n",
       "1    5/20/90  Centerville   Tennessee     suburban      HS        1      0.0   \n",
       "2    8/26/90    Las Vegas      Nevada        urban      HS        1      0.0   \n",
       "3    9/11/90  San Antonio       Texas          NaN      HS        0      3.0   \n",
       "4     1/8/91   Richardson       Texas        urban      HS        0      0.0   \n",
       "..       ...          ...         ...          ...     ...      ...      ...   \n",
       "690  1/14/20     Bellaire       Texas          NaN      HS        1      0.0   \n",
       "691  1/14/20   Fort Worth       Texas          NaN      HS        0      2.0   \n",
       "692  1/23/20       Oxnard  California          NaN      ES        0      1.0   \n",
       "693   2/3/20     Commerce       Texas          NaN       C        2      1.0   \n",
       "694  9/16/20       Sonora  California          NaN      HS        1      0.0   \n",
       "\n",
       "    True Wikp_o_Pah                                        Descripción  \n",
       "0      0       Wikp  A black youth was taunted with racial slurs by...  \n",
       "1      0        Pah                                    Sin descripción  \n",
       "2      0        Pah                                    Sin descripción  \n",
       "3      0       Wikp  3 students were wounded when gunfire broke out...  \n",
       "4      0        Pah                                    Sin descripción  \n",
       "..   ...        ...                                                ...  \n",
       "690    0       Wikp  A 19-year old student was shot in the chest an...  \n",
       "691    0       Wikp  An adult male and a 10-year old child were inj...  \n",
       "692    0       Wikp                                    Sin descripción  \n",
       "693    0       Wikp  Jacques Dshawn Smith, 21, gained access to Pri...  \n",
       "694    0       Wikp  At Sonora High School in downtown Sonora, stud...  \n",
       "\n",
       "[695 rows x 10 columns]"
      ]
     },
     "execution_count": 13,
     "metadata": {},
     "output_type": "execute_result"
    }
   ],
   "source": [
    "df['Descripción'].fillna('Sin descripción',inplace=True)\n",
    "df"
   ]
  },
  {
   "cell_type": "markdown",
   "metadata": {},
   "source": [
    "Convierto los NaN de la columna Descripción a \"Sin descripción\" "
   ]
  },
  {
   "cell_type": "markdown",
   "metadata": {},
   "source": [
    "## 3.- Descripción básica de las columnas "
   ]
  },
  {
   "cell_type": "code",
   "execution_count": 14,
   "metadata": {},
   "outputs": [
    {
     "data": {
      "text/html": [
       "<div>\n",
       "<style scoped>\n",
       "    .dataframe tbody tr th:only-of-type {\n",
       "        vertical-align: middle;\n",
       "    }\n",
       "\n",
       "    .dataframe tbody tr th {\n",
       "        vertical-align: top;\n",
       "    }\n",
       "\n",
       "    .dataframe thead th {\n",
       "        text-align: right;\n",
       "    }\n",
       "</style>\n",
       "<table border=\"1\" class=\"dataframe\">\n",
       "  <thead>\n",
       "    <tr style=\"text-align: right;\">\n",
       "      <th></th>\n",
       "      <th>Fecha</th>\n",
       "      <th>Ciudad</th>\n",
       "      <th>Estado</th>\n",
       "      <th>Tipo_de_área</th>\n",
       "      <th>Escuela</th>\n",
       "      <th>Muertes</th>\n",
       "      <th>Heridos</th>\n",
       "      <th>True</th>\n",
       "      <th>Wikp_o_Pah</th>\n",
       "      <th>Descripción</th>\n",
       "    </tr>\n",
       "  </thead>\n",
       "  <tbody>\n",
       "    <tr>\n",
       "      <th>0</th>\n",
       "      <td>3/27/90</td>\n",
       "      <td>Brooklyn</td>\n",
       "      <td>New York</td>\n",
       "      <td>NaN</td>\n",
       "      <td>C</td>\n",
       "      <td>0</td>\n",
       "      <td>1.0</td>\n",
       "      <td>0</td>\n",
       "      <td>Wikp</td>\n",
       "      <td>A black youth was taunted with racial slurs by...</td>\n",
       "    </tr>\n",
       "    <tr>\n",
       "      <th>1</th>\n",
       "      <td>5/20/90</td>\n",
       "      <td>Centerville</td>\n",
       "      <td>Tennessee</td>\n",
       "      <td>suburban</td>\n",
       "      <td>HS</td>\n",
       "      <td>1</td>\n",
       "      <td>0.0</td>\n",
       "      <td>0</td>\n",
       "      <td>Pah</td>\n",
       "      <td>Sin descripción</td>\n",
       "    </tr>\n",
       "    <tr>\n",
       "      <th>2</th>\n",
       "      <td>8/26/90</td>\n",
       "      <td>Las Vegas</td>\n",
       "      <td>Nevada</td>\n",
       "      <td>urban</td>\n",
       "      <td>HS</td>\n",
       "      <td>1</td>\n",
       "      <td>0.0</td>\n",
       "      <td>0</td>\n",
       "      <td>Pah</td>\n",
       "      <td>Sin descripción</td>\n",
       "    </tr>\n",
       "    <tr>\n",
       "      <th>3</th>\n",
       "      <td>9/11/90</td>\n",
       "      <td>San Antonio</td>\n",
       "      <td>Texas</td>\n",
       "      <td>NaN</td>\n",
       "      <td>HS</td>\n",
       "      <td>0</td>\n",
       "      <td>3.0</td>\n",
       "      <td>0</td>\n",
       "      <td>Wikp</td>\n",
       "      <td>3 students were wounded when gunfire broke out...</td>\n",
       "    </tr>\n",
       "    <tr>\n",
       "      <th>4</th>\n",
       "      <td>1/8/91</td>\n",
       "      <td>Richardson</td>\n",
       "      <td>Texas</td>\n",
       "      <td>urban</td>\n",
       "      <td>HS</td>\n",
       "      <td>0</td>\n",
       "      <td>0.0</td>\n",
       "      <td>0</td>\n",
       "      <td>Pah</td>\n",
       "      <td>Sin descripción</td>\n",
       "    </tr>\n",
       "    <tr>\n",
       "      <th>...</th>\n",
       "      <td>...</td>\n",
       "      <td>...</td>\n",
       "      <td>...</td>\n",
       "      <td>...</td>\n",
       "      <td>...</td>\n",
       "      <td>...</td>\n",
       "      <td>...</td>\n",
       "      <td>...</td>\n",
       "      <td>...</td>\n",
       "      <td>...</td>\n",
       "    </tr>\n",
       "    <tr>\n",
       "      <th>690</th>\n",
       "      <td>1/14/20</td>\n",
       "      <td>Bellaire</td>\n",
       "      <td>Texas</td>\n",
       "      <td>NaN</td>\n",
       "      <td>HS</td>\n",
       "      <td>1</td>\n",
       "      <td>0.0</td>\n",
       "      <td>0</td>\n",
       "      <td>Wikp</td>\n",
       "      <td>A 19-year old student was shot in the chest an...</td>\n",
       "    </tr>\n",
       "    <tr>\n",
       "      <th>691</th>\n",
       "      <td>1/14/20</td>\n",
       "      <td>Fort Worth</td>\n",
       "      <td>Texas</td>\n",
       "      <td>NaN</td>\n",
       "      <td>HS</td>\n",
       "      <td>0</td>\n",
       "      <td>2.0</td>\n",
       "      <td>0</td>\n",
       "      <td>Wikp</td>\n",
       "      <td>An adult male and a 10-year old child were inj...</td>\n",
       "    </tr>\n",
       "    <tr>\n",
       "      <th>692</th>\n",
       "      <td>1/23/20</td>\n",
       "      <td>Oxnard</td>\n",
       "      <td>California</td>\n",
       "      <td>NaN</td>\n",
       "      <td>ES</td>\n",
       "      <td>0</td>\n",
       "      <td>1.0</td>\n",
       "      <td>0</td>\n",
       "      <td>Wikp</td>\n",
       "      <td>Sin descripción</td>\n",
       "    </tr>\n",
       "    <tr>\n",
       "      <th>693</th>\n",
       "      <td>2/3/20</td>\n",
       "      <td>Commerce</td>\n",
       "      <td>Texas</td>\n",
       "      <td>NaN</td>\n",
       "      <td>C</td>\n",
       "      <td>2</td>\n",
       "      <td>1.0</td>\n",
       "      <td>0</td>\n",
       "      <td>Wikp</td>\n",
       "      <td>Jacques Dshawn Smith, 21, gained access to Pri...</td>\n",
       "    </tr>\n",
       "    <tr>\n",
       "      <th>694</th>\n",
       "      <td>9/16/20</td>\n",
       "      <td>Sonora</td>\n",
       "      <td>California</td>\n",
       "      <td>NaN</td>\n",
       "      <td>HS</td>\n",
       "      <td>1</td>\n",
       "      <td>0.0</td>\n",
       "      <td>0</td>\n",
       "      <td>Wikp</td>\n",
       "      <td>At Sonora High School in downtown Sonora, stud...</td>\n",
       "    </tr>\n",
       "  </tbody>\n",
       "</table>\n",
       "<p>695 rows × 10 columns</p>\n",
       "</div>"
      ],
      "text/plain": [
       "       Fecha       Ciudad      Estado Tipo_de_área Escuela  Muertes  Heridos  \\\n",
       "0    3/27/90     Brooklyn    New York          NaN       C        0      1.0   \n",
       "1    5/20/90  Centerville   Tennessee     suburban      HS        1      0.0   \n",
       "2    8/26/90    Las Vegas      Nevada        urban      HS        1      0.0   \n",
       "3    9/11/90  San Antonio       Texas          NaN      HS        0      3.0   \n",
       "4     1/8/91   Richardson       Texas        urban      HS        0      0.0   \n",
       "..       ...          ...         ...          ...     ...      ...      ...   \n",
       "690  1/14/20     Bellaire       Texas          NaN      HS        1      0.0   \n",
       "691  1/14/20   Fort Worth       Texas          NaN      HS        0      2.0   \n",
       "692  1/23/20       Oxnard  California          NaN      ES        0      1.0   \n",
       "693   2/3/20     Commerce       Texas          NaN       C        2      1.0   \n",
       "694  9/16/20       Sonora  California          NaN      HS        1      0.0   \n",
       "\n",
       "    True Wikp_o_Pah                                        Descripción  \n",
       "0      0       Wikp  A black youth was taunted with racial slurs by...  \n",
       "1      0        Pah                                    Sin descripción  \n",
       "2      0        Pah                                    Sin descripción  \n",
       "3      0       Wikp  3 students were wounded when gunfire broke out...  \n",
       "4      0        Pah                                    Sin descripción  \n",
       "..   ...        ...                                                ...  \n",
       "690    0       Wikp  A 19-year old student was shot in the chest an...  \n",
       "691    0       Wikp  An adult male and a 10-year old child were inj...  \n",
       "692    0       Wikp                                    Sin descripción  \n",
       "693    0       Wikp  Jacques Dshawn Smith, 21, gained access to Pri...  \n",
       "694    0       Wikp  At Sonora High School in downtown Sonora, stud...  \n",
       "\n",
       "[695 rows x 10 columns]"
      ]
     },
     "execution_count": 14,
     "metadata": {},
     "output_type": "execute_result"
    }
   ],
   "source": [
    "df"
   ]
  },
  {
   "cell_type": "markdown",
   "metadata": {},
   "source": [
    "Fecha: Nos da la fecha por día/mes/año\n",
    "Ciudad: Nos menciona alguna ciudad del estado donde ocurrio el tiroteo\n",
    "Estado: Menciona uno de los 52 estados donde ocurrio el tiroteo\n",
    "Tipo_de_área: Menciona urban=urbano, suburban=suburbano, 0=otro\n",
    "Escuela: C=universidad, HS=escuela secundaria, MS=escuela intermedia, ES=escuela primaria, -=desconocido\n",
    "Muertes: Cuantas personas fallecieron\n",
    "Heridos:Cuantas personas resultaron heridas\n",
    "True:Si solo ocurrio muertes y ningun herido\n",
    "Wikp_o_Pah: Pah:solo ocurrio muertes, Wikp:ocurrio muerte y heridos\n",
    "Descripción: Describen lo que sucedio durante el tiroteo o la causa de esta"
   ]
  },
  {
   "cell_type": "markdown",
   "metadata": {},
   "source": [
    "## 6.- Agrupaciones"
   ]
  },
  {
   "cell_type": "code",
   "execution_count": 15,
   "metadata": {},
   "outputs": [
    {
     "data": {
      "text/plain": [
       "array(['C', 'HS', 'MS', 'ES', '-', nan], dtype=object)"
      ]
     },
     "execution_count": 15,
     "metadata": {},
     "output_type": "execute_result"
    }
   ],
   "source": [
    "df.Escuela.unique()"
   ]
  },
  {
   "cell_type": "markdown",
   "metadata": {},
   "source": [
    " Nos menciona las tipos de clases que estan en la columna Escuela "
   ]
  },
  {
   "cell_type": "code",
   "execution_count": 16,
   "metadata": {},
   "outputs": [
    {
     "data": {
      "text/plain": [
       "0       3/27/90\n",
       "11      11/1/91\n",
       "12      11/1/91\n",
       "16     12/12/91\n",
       "17      1/29/92\n",
       "         ...   \n",
       "653     3/14/18\n",
       "675     4/30/19\n",
       "676      5/4/19\n",
       "679      5/7/19\n",
       "693      2/3/20\n",
       "Name: Fecha, Length: 144, dtype: object"
      ]
     },
     "execution_count": 16,
     "metadata": {},
     "output_type": "execute_result"
    }
   ],
   "source": [
    "Escuelas_vs_fecha = df.loc[df.Escuela == 'C'].Fecha\n",
    "Escuelas_vs_fecha"
   ]
  },
  {
   "cell_type": "markdown",
   "metadata": {},
   "source": [
    " Nos dice cuantas veces ocurrio un tiroteo en C=Universidad, ademas de darnos la fecha cuando ocurrio "
   ]
  },
  {
   "cell_type": "markdown",
   "metadata": {},
   "source": [
    "## Datos nulos"
   ]
  },
  {
   "cell_type": "code",
   "execution_count": 17,
   "metadata": {},
   "outputs": [
    {
     "data": {
      "text/html": [
       "<div>\n",
       "<style scoped>\n",
       "    .dataframe tbody tr th:only-of-type {\n",
       "        vertical-align: middle;\n",
       "    }\n",
       "\n",
       "    .dataframe tbody tr th {\n",
       "        vertical-align: top;\n",
       "    }\n",
       "\n",
       "    .dataframe thead th {\n",
       "        text-align: right;\n",
       "    }\n",
       "</style>\n",
       "<table border=\"1\" class=\"dataframe\">\n",
       "  <thead>\n",
       "    <tr style=\"text-align: right;\">\n",
       "      <th></th>\n",
       "      <th>Fecha</th>\n",
       "      <th>Ciudad</th>\n",
       "      <th>Estado</th>\n",
       "      <th>Tipo_de_área</th>\n",
       "      <th>Escuela</th>\n",
       "      <th>Muertes</th>\n",
       "      <th>Heridos</th>\n",
       "      <th>True</th>\n",
       "      <th>Wikp_o_Pah</th>\n",
       "      <th>Descripción</th>\n",
       "    </tr>\n",
       "  </thead>\n",
       "  <tbody>\n",
       "    <tr>\n",
       "      <th>0</th>\n",
       "      <td>False</td>\n",
       "      <td>False</td>\n",
       "      <td>False</td>\n",
       "      <td>True</td>\n",
       "      <td>False</td>\n",
       "      <td>False</td>\n",
       "      <td>False</td>\n",
       "      <td>False</td>\n",
       "      <td>False</td>\n",
       "      <td>False</td>\n",
       "    </tr>\n",
       "    <tr>\n",
       "      <th>1</th>\n",
       "      <td>False</td>\n",
       "      <td>False</td>\n",
       "      <td>False</td>\n",
       "      <td>False</td>\n",
       "      <td>False</td>\n",
       "      <td>False</td>\n",
       "      <td>False</td>\n",
       "      <td>False</td>\n",
       "      <td>False</td>\n",
       "      <td>False</td>\n",
       "    </tr>\n",
       "    <tr>\n",
       "      <th>2</th>\n",
       "      <td>False</td>\n",
       "      <td>False</td>\n",
       "      <td>False</td>\n",
       "      <td>False</td>\n",
       "      <td>False</td>\n",
       "      <td>False</td>\n",
       "      <td>False</td>\n",
       "      <td>False</td>\n",
       "      <td>False</td>\n",
       "      <td>False</td>\n",
       "    </tr>\n",
       "    <tr>\n",
       "      <th>3</th>\n",
       "      <td>False</td>\n",
       "      <td>False</td>\n",
       "      <td>False</td>\n",
       "      <td>True</td>\n",
       "      <td>False</td>\n",
       "      <td>False</td>\n",
       "      <td>False</td>\n",
       "      <td>False</td>\n",
       "      <td>False</td>\n",
       "      <td>False</td>\n",
       "    </tr>\n",
       "    <tr>\n",
       "      <th>4</th>\n",
       "      <td>False</td>\n",
       "      <td>False</td>\n",
       "      <td>False</td>\n",
       "      <td>False</td>\n",
       "      <td>False</td>\n",
       "      <td>False</td>\n",
       "      <td>False</td>\n",
       "      <td>False</td>\n",
       "      <td>False</td>\n",
       "      <td>False</td>\n",
       "    </tr>\n",
       "    <tr>\n",
       "      <th>...</th>\n",
       "      <td>...</td>\n",
       "      <td>...</td>\n",
       "      <td>...</td>\n",
       "      <td>...</td>\n",
       "      <td>...</td>\n",
       "      <td>...</td>\n",
       "      <td>...</td>\n",
       "      <td>...</td>\n",
       "      <td>...</td>\n",
       "      <td>...</td>\n",
       "    </tr>\n",
       "    <tr>\n",
       "      <th>690</th>\n",
       "      <td>False</td>\n",
       "      <td>False</td>\n",
       "      <td>False</td>\n",
       "      <td>True</td>\n",
       "      <td>False</td>\n",
       "      <td>False</td>\n",
       "      <td>False</td>\n",
       "      <td>False</td>\n",
       "      <td>False</td>\n",
       "      <td>False</td>\n",
       "    </tr>\n",
       "    <tr>\n",
       "      <th>691</th>\n",
       "      <td>False</td>\n",
       "      <td>False</td>\n",
       "      <td>False</td>\n",
       "      <td>True</td>\n",
       "      <td>False</td>\n",
       "      <td>False</td>\n",
       "      <td>False</td>\n",
       "      <td>False</td>\n",
       "      <td>False</td>\n",
       "      <td>False</td>\n",
       "    </tr>\n",
       "    <tr>\n",
       "      <th>692</th>\n",
       "      <td>False</td>\n",
       "      <td>False</td>\n",
       "      <td>False</td>\n",
       "      <td>True</td>\n",
       "      <td>False</td>\n",
       "      <td>False</td>\n",
       "      <td>False</td>\n",
       "      <td>False</td>\n",
       "      <td>False</td>\n",
       "      <td>False</td>\n",
       "    </tr>\n",
       "    <tr>\n",
       "      <th>693</th>\n",
       "      <td>False</td>\n",
       "      <td>False</td>\n",
       "      <td>False</td>\n",
       "      <td>True</td>\n",
       "      <td>False</td>\n",
       "      <td>False</td>\n",
       "      <td>False</td>\n",
       "      <td>False</td>\n",
       "      <td>False</td>\n",
       "      <td>False</td>\n",
       "    </tr>\n",
       "    <tr>\n",
       "      <th>694</th>\n",
       "      <td>False</td>\n",
       "      <td>False</td>\n",
       "      <td>False</td>\n",
       "      <td>True</td>\n",
       "      <td>False</td>\n",
       "      <td>False</td>\n",
       "      <td>False</td>\n",
       "      <td>False</td>\n",
       "      <td>False</td>\n",
       "      <td>False</td>\n",
       "    </tr>\n",
       "  </tbody>\n",
       "</table>\n",
       "<p>695 rows × 10 columns</p>\n",
       "</div>"
      ],
      "text/plain": [
       "     Fecha  Ciudad  Estado  Tipo_de_área  Escuela  Muertes  Heridos   True  \\\n",
       "0    False   False   False          True    False    False    False  False   \n",
       "1    False   False   False         False    False    False    False  False   \n",
       "2    False   False   False         False    False    False    False  False   \n",
       "3    False   False   False          True    False    False    False  False   \n",
       "4    False   False   False         False    False    False    False  False   \n",
       "..     ...     ...     ...           ...      ...      ...      ...    ...   \n",
       "690  False   False   False          True    False    False    False  False   \n",
       "691  False   False   False          True    False    False    False  False   \n",
       "692  False   False   False          True    False    False    False  False   \n",
       "693  False   False   False          True    False    False    False  False   \n",
       "694  False   False   False          True    False    False    False  False   \n",
       "\n",
       "     Wikp_o_Pah  Descripción  \n",
       "0         False        False  \n",
       "1         False        False  \n",
       "2         False        False  \n",
       "3         False        False  \n",
       "4         False        False  \n",
       "..          ...          ...  \n",
       "690       False        False  \n",
       "691       False        False  \n",
       "692       False        False  \n",
       "693       False        False  \n",
       "694       False        False  \n",
       "\n",
       "[695 rows x 10 columns]"
      ]
     },
     "execution_count": 17,
     "metadata": {},
     "output_type": "execute_result"
    }
   ],
   "source": [
    "df.isnull()"
   ]
  },
  {
   "cell_type": "markdown",
   "metadata": {},
   "source": [
    "Aqui podemos ver que tenemos datos nulos en el \"Tipo de área\" por lo que debemos de corregir eso como lo hice anteriormente "
   ]
  },
  {
   "cell_type": "code",
   "execution_count": 18,
   "metadata": {},
   "outputs": [
    {
     "data": {
      "text/plain": [
       "Fecha           False\n",
       "Ciudad          False\n",
       "Estado          False\n",
       "Tipo_de_área     True\n",
       "Escuela          True\n",
       "Muertes         False\n",
       "Heridos         False\n",
       "True            False\n",
       "Wikp_o_Pah      False\n",
       "Descripción     False\n",
       "dtype: bool"
      ]
     },
     "execution_count": 18,
     "metadata": {},
     "output_type": "execute_result"
    }
   ],
   "source": [
    "df.isnull().any()"
   ]
  },
  {
   "cell_type": "markdown",
   "metadata": {},
   "source": [
    "Me marca que tengo NaN en la columna \"Tipo de área\" y \"Escuela\" aunque en \"Escuela\" esta todo bien :s, no hay NaN "
   ]
  },
  {
   "cell_type": "code",
   "execution_count": 19,
   "metadata": {},
   "outputs": [
    {
     "data": {
      "text/html": [
       "<div>\n",
       "<style scoped>\n",
       "    .dataframe tbody tr th:only-of-type {\n",
       "        vertical-align: middle;\n",
       "    }\n",
       "\n",
       "    .dataframe tbody tr th {\n",
       "        vertical-align: top;\n",
       "    }\n",
       "\n",
       "    .dataframe thead th {\n",
       "        text-align: right;\n",
       "    }\n",
       "</style>\n",
       "<table border=\"1\" class=\"dataframe\">\n",
       "  <thead>\n",
       "    <tr style=\"text-align: right;\">\n",
       "      <th></th>\n",
       "      <th>Fecha</th>\n",
       "      <th>Ciudad</th>\n",
       "      <th>Estado</th>\n",
       "      <th>Tipo_de_área</th>\n",
       "      <th>Escuela</th>\n",
       "      <th>Muertes</th>\n",
       "      <th>Heridos</th>\n",
       "      <th>True</th>\n",
       "      <th>Wikp_o_Pah</th>\n",
       "      <th>Descripción</th>\n",
       "    </tr>\n",
       "  </thead>\n",
       "  <tbody>\n",
       "    <tr>\n",
       "      <th>0</th>\n",
       "      <td>3/27/90</td>\n",
       "      <td>Brooklyn</td>\n",
       "      <td>New York</td>\n",
       "      <td>0</td>\n",
       "      <td>C</td>\n",
       "      <td>0</td>\n",
       "      <td>1.0</td>\n",
       "      <td>0</td>\n",
       "      <td>Wikp</td>\n",
       "      <td>A black youth was taunted with racial slurs by...</td>\n",
       "    </tr>\n",
       "    <tr>\n",
       "      <th>1</th>\n",
       "      <td>5/20/90</td>\n",
       "      <td>Centerville</td>\n",
       "      <td>Tennessee</td>\n",
       "      <td>suburban</td>\n",
       "      <td>HS</td>\n",
       "      <td>1</td>\n",
       "      <td>0.0</td>\n",
       "      <td>0</td>\n",
       "      <td>Pah</td>\n",
       "      <td>Sin descripción</td>\n",
       "    </tr>\n",
       "    <tr>\n",
       "      <th>2</th>\n",
       "      <td>8/26/90</td>\n",
       "      <td>Las Vegas</td>\n",
       "      <td>Nevada</td>\n",
       "      <td>urban</td>\n",
       "      <td>HS</td>\n",
       "      <td>1</td>\n",
       "      <td>0.0</td>\n",
       "      <td>0</td>\n",
       "      <td>Pah</td>\n",
       "      <td>Sin descripción</td>\n",
       "    </tr>\n",
       "    <tr>\n",
       "      <th>3</th>\n",
       "      <td>9/11/90</td>\n",
       "      <td>San Antonio</td>\n",
       "      <td>Texas</td>\n",
       "      <td>0</td>\n",
       "      <td>HS</td>\n",
       "      <td>0</td>\n",
       "      <td>3.0</td>\n",
       "      <td>0</td>\n",
       "      <td>Wikp</td>\n",
       "      <td>3 students were wounded when gunfire broke out...</td>\n",
       "    </tr>\n",
       "    <tr>\n",
       "      <th>4</th>\n",
       "      <td>1/8/91</td>\n",
       "      <td>Richardson</td>\n",
       "      <td>Texas</td>\n",
       "      <td>urban</td>\n",
       "      <td>HS</td>\n",
       "      <td>0</td>\n",
       "      <td>0.0</td>\n",
       "      <td>0</td>\n",
       "      <td>Pah</td>\n",
       "      <td>Sin descripción</td>\n",
       "    </tr>\n",
       "    <tr>\n",
       "      <th>...</th>\n",
       "      <td>...</td>\n",
       "      <td>...</td>\n",
       "      <td>...</td>\n",
       "      <td>...</td>\n",
       "      <td>...</td>\n",
       "      <td>...</td>\n",
       "      <td>...</td>\n",
       "      <td>...</td>\n",
       "      <td>...</td>\n",
       "      <td>...</td>\n",
       "    </tr>\n",
       "    <tr>\n",
       "      <th>690</th>\n",
       "      <td>1/14/20</td>\n",
       "      <td>Bellaire</td>\n",
       "      <td>Texas</td>\n",
       "      <td>0</td>\n",
       "      <td>HS</td>\n",
       "      <td>1</td>\n",
       "      <td>0.0</td>\n",
       "      <td>0</td>\n",
       "      <td>Wikp</td>\n",
       "      <td>A 19-year old student was shot in the chest an...</td>\n",
       "    </tr>\n",
       "    <tr>\n",
       "      <th>691</th>\n",
       "      <td>1/14/20</td>\n",
       "      <td>Fort Worth</td>\n",
       "      <td>Texas</td>\n",
       "      <td>0</td>\n",
       "      <td>HS</td>\n",
       "      <td>0</td>\n",
       "      <td>2.0</td>\n",
       "      <td>0</td>\n",
       "      <td>Wikp</td>\n",
       "      <td>An adult male and a 10-year old child were inj...</td>\n",
       "    </tr>\n",
       "    <tr>\n",
       "      <th>692</th>\n",
       "      <td>1/23/20</td>\n",
       "      <td>Oxnard</td>\n",
       "      <td>California</td>\n",
       "      <td>0</td>\n",
       "      <td>ES</td>\n",
       "      <td>0</td>\n",
       "      <td>1.0</td>\n",
       "      <td>0</td>\n",
       "      <td>Wikp</td>\n",
       "      <td>Sin descripción</td>\n",
       "    </tr>\n",
       "    <tr>\n",
       "      <th>693</th>\n",
       "      <td>2/3/20</td>\n",
       "      <td>Commerce</td>\n",
       "      <td>Texas</td>\n",
       "      <td>0</td>\n",
       "      <td>C</td>\n",
       "      <td>2</td>\n",
       "      <td>1.0</td>\n",
       "      <td>0</td>\n",
       "      <td>Wikp</td>\n",
       "      <td>Jacques Dshawn Smith, 21, gained access to Pri...</td>\n",
       "    </tr>\n",
       "    <tr>\n",
       "      <th>694</th>\n",
       "      <td>9/16/20</td>\n",
       "      <td>Sonora</td>\n",
       "      <td>California</td>\n",
       "      <td>0</td>\n",
       "      <td>HS</td>\n",
       "      <td>1</td>\n",
       "      <td>0.0</td>\n",
       "      <td>0</td>\n",
       "      <td>Wikp</td>\n",
       "      <td>At Sonora High School in downtown Sonora, stud...</td>\n",
       "    </tr>\n",
       "  </tbody>\n",
       "</table>\n",
       "<p>695 rows × 10 columns</p>\n",
       "</div>"
      ],
      "text/plain": [
       "       Fecha       Ciudad      Estado Tipo_de_área Escuela  Muertes  Heridos  \\\n",
       "0    3/27/90     Brooklyn    New York            0       C        0      1.0   \n",
       "1    5/20/90  Centerville   Tennessee     suburban      HS        1      0.0   \n",
       "2    8/26/90    Las Vegas      Nevada        urban      HS        1      0.0   \n",
       "3    9/11/90  San Antonio       Texas            0      HS        0      3.0   \n",
       "4     1/8/91   Richardson       Texas        urban      HS        0      0.0   \n",
       "..       ...          ...         ...          ...     ...      ...      ...   \n",
       "690  1/14/20     Bellaire       Texas            0      HS        1      0.0   \n",
       "691  1/14/20   Fort Worth       Texas            0      HS        0      2.0   \n",
       "692  1/23/20       Oxnard  California            0      ES        0      1.0   \n",
       "693   2/3/20     Commerce       Texas            0       C        2      1.0   \n",
       "694  9/16/20       Sonora  California            0      HS        1      0.0   \n",
       "\n",
       "    True Wikp_o_Pah                                        Descripción  \n",
       "0      0       Wikp  A black youth was taunted with racial slurs by...  \n",
       "1      0        Pah                                    Sin descripción  \n",
       "2      0        Pah                                    Sin descripción  \n",
       "3      0       Wikp  3 students were wounded when gunfire broke out...  \n",
       "4      0        Pah                                    Sin descripción  \n",
       "..   ...        ...                                                ...  \n",
       "690    0       Wikp  A 19-year old student was shot in the chest an...  \n",
       "691    0       Wikp  An adult male and a 10-year old child were inj...  \n",
       "692    0       Wikp                                    Sin descripción  \n",
       "693    0       Wikp  Jacques Dshawn Smith, 21, gained access to Pri...  \n",
       "694    0       Wikp  At Sonora High School in downtown Sonora, stud...  \n",
       "\n",
       "[695 rows x 10 columns]"
      ]
     },
     "execution_count": 19,
     "metadata": {},
     "output_type": "execute_result"
    }
   ],
   "source": [
    "df['Tipo_de_área'].fillna(0,inplace=True)\n",
    "df"
   ]
  },
  {
   "cell_type": "markdown",
   "metadata": {},
   "source": [
    "Esta corregido la columna de \"Tipo de área\" quitando los NaN a cero "
   ]
  },
  {
   "cell_type": "markdown",
   "metadata": {},
   "source": [
    "## 4.- Clasificación de datos"
   ]
  },
  {
   "cell_type": "code",
   "execution_count": 20,
   "metadata": {},
   "outputs": [
    {
     "data": {
      "text/html": [
       "<div>\n",
       "<style scoped>\n",
       "    .dataframe tbody tr th:only-of-type {\n",
       "        vertical-align: middle;\n",
       "    }\n",
       "\n",
       "    .dataframe tbody tr th {\n",
       "        vertical-align: top;\n",
       "    }\n",
       "\n",
       "    .dataframe thead th {\n",
       "        text-align: right;\n",
       "    }\n",
       "</style>\n",
       "<table border=\"1\" class=\"dataframe\">\n",
       "  <thead>\n",
       "    <tr style=\"text-align: right;\">\n",
       "      <th></th>\n",
       "      <th>Fecha</th>\n",
       "      <th>Ciudad</th>\n",
       "      <th>Estado</th>\n",
       "      <th>Tipo_de_área</th>\n",
       "      <th>Escuela</th>\n",
       "      <th>Muertes</th>\n",
       "      <th>Heridos</th>\n",
       "      <th>True</th>\n",
       "      <th>Wikp_o_Pah</th>\n",
       "      <th>Descripción</th>\n",
       "      <th>Total victimas</th>\n",
       "    </tr>\n",
       "  </thead>\n",
       "  <tbody>\n",
       "    <tr>\n",
       "      <th>0</th>\n",
       "      <td>3/27/90</td>\n",
       "      <td>Brooklyn</td>\n",
       "      <td>New York</td>\n",
       "      <td>0</td>\n",
       "      <td>C</td>\n",
       "      <td>0</td>\n",
       "      <td>1.0</td>\n",
       "      <td>0</td>\n",
       "      <td>Wikp</td>\n",
       "      <td>A black youth was taunted with racial slurs by...</td>\n",
       "      <td>1.0</td>\n",
       "    </tr>\n",
       "    <tr>\n",
       "      <th>1</th>\n",
       "      <td>5/20/90</td>\n",
       "      <td>Centerville</td>\n",
       "      <td>Tennessee</td>\n",
       "      <td>suburban</td>\n",
       "      <td>HS</td>\n",
       "      <td>1</td>\n",
       "      <td>0.0</td>\n",
       "      <td>0</td>\n",
       "      <td>Pah</td>\n",
       "      <td>Sin descripción</td>\n",
       "      <td>1.0</td>\n",
       "    </tr>\n",
       "    <tr>\n",
       "      <th>2</th>\n",
       "      <td>8/26/90</td>\n",
       "      <td>Las Vegas</td>\n",
       "      <td>Nevada</td>\n",
       "      <td>urban</td>\n",
       "      <td>HS</td>\n",
       "      <td>1</td>\n",
       "      <td>0.0</td>\n",
       "      <td>0</td>\n",
       "      <td>Pah</td>\n",
       "      <td>Sin descripción</td>\n",
       "      <td>1.0</td>\n",
       "    </tr>\n",
       "    <tr>\n",
       "      <th>3</th>\n",
       "      <td>9/11/90</td>\n",
       "      <td>San Antonio</td>\n",
       "      <td>Texas</td>\n",
       "      <td>0</td>\n",
       "      <td>HS</td>\n",
       "      <td>0</td>\n",
       "      <td>3.0</td>\n",
       "      <td>0</td>\n",
       "      <td>Wikp</td>\n",
       "      <td>3 students were wounded when gunfire broke out...</td>\n",
       "      <td>3.0</td>\n",
       "    </tr>\n",
       "    <tr>\n",
       "      <th>4</th>\n",
       "      <td>1/8/91</td>\n",
       "      <td>Richardson</td>\n",
       "      <td>Texas</td>\n",
       "      <td>urban</td>\n",
       "      <td>HS</td>\n",
       "      <td>0</td>\n",
       "      <td>0.0</td>\n",
       "      <td>0</td>\n",
       "      <td>Pah</td>\n",
       "      <td>Sin descripción</td>\n",
       "      <td>0.0</td>\n",
       "    </tr>\n",
       "    <tr>\n",
       "      <th>...</th>\n",
       "      <td>...</td>\n",
       "      <td>...</td>\n",
       "      <td>...</td>\n",
       "      <td>...</td>\n",
       "      <td>...</td>\n",
       "      <td>...</td>\n",
       "      <td>...</td>\n",
       "      <td>...</td>\n",
       "      <td>...</td>\n",
       "      <td>...</td>\n",
       "      <td>...</td>\n",
       "    </tr>\n",
       "    <tr>\n",
       "      <th>690</th>\n",
       "      <td>1/14/20</td>\n",
       "      <td>Bellaire</td>\n",
       "      <td>Texas</td>\n",
       "      <td>0</td>\n",
       "      <td>HS</td>\n",
       "      <td>1</td>\n",
       "      <td>0.0</td>\n",
       "      <td>0</td>\n",
       "      <td>Wikp</td>\n",
       "      <td>A 19-year old student was shot in the chest an...</td>\n",
       "      <td>1.0</td>\n",
       "    </tr>\n",
       "    <tr>\n",
       "      <th>691</th>\n",
       "      <td>1/14/20</td>\n",
       "      <td>Fort Worth</td>\n",
       "      <td>Texas</td>\n",
       "      <td>0</td>\n",
       "      <td>HS</td>\n",
       "      <td>0</td>\n",
       "      <td>2.0</td>\n",
       "      <td>0</td>\n",
       "      <td>Wikp</td>\n",
       "      <td>An adult male and a 10-year old child were inj...</td>\n",
       "      <td>2.0</td>\n",
       "    </tr>\n",
       "    <tr>\n",
       "      <th>692</th>\n",
       "      <td>1/23/20</td>\n",
       "      <td>Oxnard</td>\n",
       "      <td>California</td>\n",
       "      <td>0</td>\n",
       "      <td>ES</td>\n",
       "      <td>0</td>\n",
       "      <td>1.0</td>\n",
       "      <td>0</td>\n",
       "      <td>Wikp</td>\n",
       "      <td>Sin descripción</td>\n",
       "      <td>1.0</td>\n",
       "    </tr>\n",
       "    <tr>\n",
       "      <th>693</th>\n",
       "      <td>2/3/20</td>\n",
       "      <td>Commerce</td>\n",
       "      <td>Texas</td>\n",
       "      <td>0</td>\n",
       "      <td>C</td>\n",
       "      <td>2</td>\n",
       "      <td>1.0</td>\n",
       "      <td>0</td>\n",
       "      <td>Wikp</td>\n",
       "      <td>Jacques Dshawn Smith, 21, gained access to Pri...</td>\n",
       "      <td>3.0</td>\n",
       "    </tr>\n",
       "    <tr>\n",
       "      <th>694</th>\n",
       "      <td>9/16/20</td>\n",
       "      <td>Sonora</td>\n",
       "      <td>California</td>\n",
       "      <td>0</td>\n",
       "      <td>HS</td>\n",
       "      <td>1</td>\n",
       "      <td>0.0</td>\n",
       "      <td>0</td>\n",
       "      <td>Wikp</td>\n",
       "      <td>At Sonora High School in downtown Sonora, stud...</td>\n",
       "      <td>1.0</td>\n",
       "    </tr>\n",
       "  </tbody>\n",
       "</table>\n",
       "<p>695 rows × 11 columns</p>\n",
       "</div>"
      ],
      "text/plain": [
       "       Fecha       Ciudad      Estado Tipo_de_área Escuela  Muertes  Heridos  \\\n",
       "0    3/27/90     Brooklyn    New York            0       C        0      1.0   \n",
       "1    5/20/90  Centerville   Tennessee     suburban      HS        1      0.0   \n",
       "2    8/26/90    Las Vegas      Nevada        urban      HS        1      0.0   \n",
       "3    9/11/90  San Antonio       Texas            0      HS        0      3.0   \n",
       "4     1/8/91   Richardson       Texas        urban      HS        0      0.0   \n",
       "..       ...          ...         ...          ...     ...      ...      ...   \n",
       "690  1/14/20     Bellaire       Texas            0      HS        1      0.0   \n",
       "691  1/14/20   Fort Worth       Texas            0      HS        0      2.0   \n",
       "692  1/23/20       Oxnard  California            0      ES        0      1.0   \n",
       "693   2/3/20     Commerce       Texas            0       C        2      1.0   \n",
       "694  9/16/20       Sonora  California            0      HS        1      0.0   \n",
       "\n",
       "    True Wikp_o_Pah                                        Descripción  \\\n",
       "0      0       Wikp  A black youth was taunted with racial slurs by...   \n",
       "1      0        Pah                                    Sin descripción   \n",
       "2      0        Pah                                    Sin descripción   \n",
       "3      0       Wikp  3 students were wounded when gunfire broke out...   \n",
       "4      0        Pah                                    Sin descripción   \n",
       "..   ...        ...                                                ...   \n",
       "690    0       Wikp  A 19-year old student was shot in the chest an...   \n",
       "691    0       Wikp  An adult male and a 10-year old child were inj...   \n",
       "692    0       Wikp                                    Sin descripción   \n",
       "693    0       Wikp  Jacques Dshawn Smith, 21, gained access to Pri...   \n",
       "694    0       Wikp  At Sonora High School in downtown Sonora, stud...   \n",
       "\n",
       "     Total victimas  \n",
       "0               1.0  \n",
       "1               1.0  \n",
       "2               1.0  \n",
       "3               3.0  \n",
       "4               0.0  \n",
       "..              ...  \n",
       "690             1.0  \n",
       "691             2.0  \n",
       "692             1.0  \n",
       "693             3.0  \n",
       "694             1.0  \n",
       "\n",
       "[695 rows x 11 columns]"
      ]
     },
     "execution_count": 20,
     "metadata": {},
     "output_type": "execute_result"
    }
   ],
   "source": [
    "df['Total victimas']=df.loc[df['Muertes']>=0, ['Muertes','Heridos']].sum(axis=1)\n",
    "df"
   ]
  },
  {
   "cell_type": "markdown",
   "metadata": {},
   "source": [
    "CORRECIÓN: Agregue la columna de Total de víctimas para poder hacer el gráfico de USA, solo sume la columna de Muertes y Heridos para obtener el total de personas que fueron victimas del tiroteo."
   ]
  },
  {
   "cell_type": "markdown",
   "metadata": {},
   "source": [
    "## 7.- Preguntas de interes"
   ]
  },
  {
   "cell_type": "markdown",
   "metadata": {},
   "source": [
    "PREGUNTAS DE INTERES:\n",
    "\n",
    "¿Para que me puede servir estas agrupaciones para la práctica siguiente?\n",
    "Me pueden servir para poder realizar graficas, en mi caso escogimos la columna de las escuelas de la universidad, por lo que al seleccionarla podemos realizar graficas, ¿como cuando ocurrieron tiroteos?, ademas de sus fechas correspondientes.\n",
    "Tambien podemos hacer una serie de tiempo, por lo que podemos utilizar la técnica de la predicción para saber cuantas personas pueden morir o el porcentaje de mortalidad que tiene los tiroteos en las universidades."
   ]
  },
  {
   "cell_type": "markdown",
   "metadata": {},
   "source": [
    "# PARTE 2 Visualización de datos"
   ]
  },
  {
   "cell_type": "markdown",
   "metadata": {},
   "source": [
    "## 1.- Estadística Básica"
   ]
  },
  {
   "cell_type": "code",
   "execution_count": 21,
   "metadata": {},
   "outputs": [
    {
     "data": {
      "text/plain": [
       "806"
      ]
     },
     "execution_count": 21,
     "metadata": {},
     "output_type": "execute_result"
    }
   ],
   "source": [
    "df['Muertes'].sum()"
   ]
  },
  {
   "cell_type": "markdown",
   "metadata": {},
   "source": [
    "En nuestra base de datos, desde 1990 a 2020 han muertos 806 personas a causa de los tiroteos en EUA"
   ]
  },
  {
   "cell_type": "code",
   "execution_count": 22,
   "metadata": {},
   "outputs": [
    {
     "data": {
      "text/plain": [
       "1.1597122302158274"
      ]
     },
     "execution_count": 22,
     "metadata": {},
     "output_type": "execute_result"
    }
   ],
   "source": [
    "df['Muertes'].mean()"
   ]
  },
  {
   "cell_type": "markdown",
   "metadata": {},
   "source": [
    "1 persona a muerto por promedio desde 1990 a 2020, a causa de los tiroteos en EUA"
   ]
  },
  {
   "cell_type": "code",
   "execution_count": 23,
   "metadata": {},
   "outputs": [
    {
     "data": {
      "text/plain": [
       "0        1.0\n",
       "1        1.0\n",
       "2        1.0\n",
       "3        4.0\n",
       "4        4.0\n",
       "       ...  \n",
       "690    605.0\n",
       "691    607.0\n",
       "692    608.0\n",
       "693    609.0\n",
       "694    609.0\n",
       "Name: Heridos, Length: 695, dtype: float64"
      ]
     },
     "execution_count": 23,
     "metadata": {},
     "output_type": "execute_result"
    }
   ],
   "source": [
    "df['Heridos'].cumsum()"
   ]
  },
  {
   "cell_type": "markdown",
   "metadata": {},
   "source": [
    "Tenemos un total de 609 heridos a causa de los tiroteos "
   ]
  },
  {
   "cell_type": "code",
   "execution_count": 24,
   "metadata": {},
   "outputs": [
    {
     "data": {
      "text/plain": [
       "0"
      ]
     },
     "execution_count": 24,
     "metadata": {},
     "output_type": "execute_result"
    }
   ],
   "source": [
    "df['Muertes'].min()"
   ]
  },
  {
   "cell_type": "markdown",
   "metadata": {},
   "source": [
    "El menor número de personas que han muerto en un tiroteo es de saldo blanco"
   ]
  },
  {
   "cell_type": "code",
   "execution_count": 25,
   "metadata": {},
   "outputs": [
    {
     "data": {
      "text/plain": [
       "33"
      ]
     },
     "execution_count": 25,
     "metadata": {},
     "output_type": "execute_result"
    }
   ],
   "source": [
    "df['Muertes'].max()"
   ]
  },
  {
   "cell_type": "markdown",
   "metadata": {},
   "source": [
    "El mayor número de personas que han muerto en un tiroteo es de 33 personas"
   ]
  },
  {
   "cell_type": "code",
   "execution_count": 26,
   "metadata": {},
   "outputs": [
    {
     "data": {
      "text/plain": [
       "1.0"
      ]
     },
     "execution_count": 26,
     "metadata": {},
     "output_type": "execute_result"
    }
   ],
   "source": [
    "df['Muertes'].median()"
   ]
  },
  {
   "cell_type": "code",
   "execution_count": 27,
   "metadata": {},
   "outputs": [
    {
     "data": {
      "text/plain": [
       "7.434109427155685"
      ]
     },
     "execution_count": 27,
     "metadata": {},
     "output_type": "execute_result"
    }
   ],
   "source": [
    "df['Muertes'].var()"
   ]
  },
  {
   "cell_type": "code",
   "execution_count": 28,
   "metadata": {},
   "outputs": [
    {
     "data": {
      "text/plain": [
       "2.7265563311906256"
      ]
     },
     "execution_count": 28,
     "metadata": {},
     "output_type": "execute_result"
    }
   ],
   "source": [
    "df['Muertes'].std()"
   ]
  },
  {
   "cell_type": "code",
   "execution_count": 29,
   "metadata": {},
   "outputs": [
    {
     "data": {
      "text/html": [
       "<div>\n",
       "<style scoped>\n",
       "    .dataframe tbody tr th:only-of-type {\n",
       "        vertical-align: middle;\n",
       "    }\n",
       "\n",
       "    .dataframe tbody tr th {\n",
       "        vertical-align: top;\n",
       "    }\n",
       "\n",
       "    .dataframe thead th {\n",
       "        text-align: right;\n",
       "    }\n",
       "</style>\n",
       "<table border=\"1\" class=\"dataframe\">\n",
       "  <thead>\n",
       "    <tr style=\"text-align: right;\">\n",
       "      <th></th>\n",
       "      <th>Muertes</th>\n",
       "      <th>Heridos</th>\n",
       "      <th>Total victimas</th>\n",
       "    </tr>\n",
       "  </thead>\n",
       "  <tbody>\n",
       "    <tr>\n",
       "      <th>Muertes</th>\n",
       "      <td>1.000000</td>\n",
       "      <td>0.359816</td>\n",
       "      <td>0.842698</td>\n",
       "    </tr>\n",
       "    <tr>\n",
       "      <th>Heridos</th>\n",
       "      <td>0.359816</td>\n",
       "      <td>1.000000</td>\n",
       "      <td>0.805543</td>\n",
       "    </tr>\n",
       "    <tr>\n",
       "      <th>Total victimas</th>\n",
       "      <td>0.842698</td>\n",
       "      <td>0.805543</td>\n",
       "      <td>1.000000</td>\n",
       "    </tr>\n",
       "  </tbody>\n",
       "</table>\n",
       "</div>"
      ],
      "text/plain": [
       "                 Muertes   Heridos  Total victimas\n",
       "Muertes         1.000000  0.359816        0.842698\n",
       "Heridos         0.359816  1.000000        0.805543\n",
       "Total victimas  0.842698  0.805543        1.000000"
      ]
     },
     "execution_count": 29,
     "metadata": {},
     "output_type": "execute_result"
    }
   ],
   "source": [
    "df.corr()"
   ]
  },
  {
   "cell_type": "code",
   "execution_count": 30,
   "metadata": {},
   "outputs": [
    {
     "data": {
      "text/html": [
       "<div>\n",
       "<style scoped>\n",
       "    .dataframe tbody tr th:only-of-type {\n",
       "        vertical-align: middle;\n",
       "    }\n",
       "\n",
       "    .dataframe tbody tr th {\n",
       "        vertical-align: top;\n",
       "    }\n",
       "\n",
       "    .dataframe thead th {\n",
       "        text-align: right;\n",
       "    }\n",
       "</style>\n",
       "<table border=\"1\" class=\"dataframe\">\n",
       "  <thead>\n",
       "    <tr style=\"text-align: right;\">\n",
       "      <th></th>\n",
       "      <th>Muertes</th>\n",
       "      <th>Heridos</th>\n",
       "      <th>Total victimas</th>\n",
       "    </tr>\n",
       "  </thead>\n",
       "  <tbody>\n",
       "    <tr>\n",
       "      <th>Muertes</th>\n",
       "      <td>7.434109</td>\n",
       "      <td>2.430454</td>\n",
       "      <td>9.864564</td>\n",
       "    </tr>\n",
       "    <tr>\n",
       "      <th>Heridos</th>\n",
       "      <td>2.430454</td>\n",
       "      <td>6.137404</td>\n",
       "      <td>8.567858</td>\n",
       "    </tr>\n",
       "    <tr>\n",
       "      <th>Total victimas</th>\n",
       "      <td>9.864564</td>\n",
       "      <td>8.567858</td>\n",
       "      <td>18.432422</td>\n",
       "    </tr>\n",
       "  </tbody>\n",
       "</table>\n",
       "</div>"
      ],
      "text/plain": [
       "                 Muertes   Heridos  Total victimas\n",
       "Muertes         7.434109  2.430454        9.864564\n",
       "Heridos         2.430454  6.137404        8.567858\n",
       "Total victimas  9.864564  8.567858       18.432422"
      ]
     },
     "execution_count": 30,
     "metadata": {},
     "output_type": "execute_result"
    }
   ],
   "source": [
    "df.cov()"
   ]
  },
  {
   "cell_type": "markdown",
   "metadata": {},
   "source": [
    "Al tener la correlación números muy cercanos a 1 y al ser la covarianza números grandes podemos concluir que existe una relación lineal muy grande entre el número de \"muertes\" y el número de \"heridos\" en los tiroteos."
   ]
  },
  {
   "cell_type": "markdown",
   "metadata": {},
   "source": [
    "# 3-4.-  Graficar datos univariantes "
   ]
  },
  {
   "cell_type": "markdown",
   "metadata": {},
   "source": [
    "## Gráfica de barras y categorícos"
   ]
  },
  {
   "cell_type": "markdown",
   "metadata": {},
   "source": [
    "### Matplotlib"
   ]
  },
  {
   "cell_type": "code",
   "execution_count": 31,
   "metadata": {},
   "outputs": [
    {
     "data": {
      "text/plain": [
       "<matplotlib.axes._subplots.AxesSubplot at 0x24d9eea0640>"
      ]
     },
     "execution_count": 31,
     "metadata": {},
     "output_type": "execute_result"
    },
    {
     "data": {
      "image/png": "[encoded data removed]",
      "text/plain": [
       "<Figure size 432x288 with 1 Axes>"
      ]
     },
     "metadata": {
      "needs_background": "light"
     },
     "output_type": "display_data"
    }
   ],
   "source": [
    "df['Estado'].value_counts().plot.bar()"
   ]
  },
  {
   "cell_type": "markdown",
   "metadata": {},
   "source": [
    "Representa el total de estados, en los que llegaron a ocurrir tiroteos desde 1990 a la fecha actual.\n",
    "Como no se ve muy bien los estados a continuación solo mencionare 20 de ellos."
   ]
  },
  {
   "cell_type": "code",
   "execution_count": 32,
   "metadata": {},
   "outputs": [
    {
     "data": {
      "text/plain": [
       "<matplotlib.axes._subplots.AxesSubplot at 0x24d9eff2130>"
      ]
     },
     "execution_count": 32,
     "metadata": {},
     "output_type": "execute_result"
    },
    {
     "data": {
      "image/png": "[encoded data removed]",
      "text/plain": [
       "<Figure size 432x288 with 1 Axes>"
      ]
     },
     "metadata": {
      "needs_background": "light"
     },
     "output_type": "display_data"
    }
   ],
   "source": [
    "df['Estado'].value_counts().head(20).plot.bar()"
   ]
  },
  {
   "cell_type": "markdown",
   "metadata": {},
   "source": [
    "Se pueden ver los primeros 20 estados donde suelen ocurrir más tiroteos"
   ]
  },
  {
   "cell_type": "code",
   "execution_count": 33,
   "metadata": {},
   "outputs": [
    {
     "data": {
      "text/plain": [
       "<matplotlib.axes._subplots.AxesSubplot at 0x24d9d6d70d0>"
      ]
     },
     "execution_count": 33,
     "metadata": {},
     "output_type": "execute_result"
    },
    {
     "data": {
      "image/png": "[encoded data removed]",
      "text/plain": [
       "<Figure size 432x288 with 1 Axes>"
      ]
     },
     "metadata": {
      "needs_background": "light"
     },
     "output_type": "display_data"
    }
   ],
   "source": [
    "df['Ciudad'].value_counts().sort_index().plot.bar()"
   ]
  },
  {
   "cell_type": "markdown",
   "metadata": {},
   "source": [
    "Ahora bien, estas son las ciudades donde ocurrieron los tiroteos desde 1990 a la fecha actual."
   ]
  },
  {
   "cell_type": "code",
   "execution_count": 34,
   "metadata": {},
   "outputs": [
    {
     "data": {
      "text/plain": [
       "<matplotlib.axes._subplots.AxesSubplot at 0x24da0824280>"
      ]
     },
     "execution_count": 34,
     "metadata": {},
     "output_type": "execute_result"
    },
    {
     "data": {
      "image/png": "[encoded data removed]",
      "text/plain": [
       "<Figure size 432x288 with 1 Axes>"
      ]
     },
     "metadata": {
      "needs_background": "light"
     },
     "output_type": "display_data"
    }
   ],
   "source": [
    "df['Ciudad'].value_counts().head(20).plot.bar()"
   ]
  },
  {
   "cell_type": "markdown",
   "metadata": {},
   "source": [
    "Se pueden ver las primeras 20 ciudades donde suelen ocurrir más tiroteos"
   ]
  },
  {
   "cell_type": "markdown",
   "metadata": {},
   "source": [
    "## Gráficas de lineas"
   ]
  },
  {
   "cell_type": "code",
   "execution_count": 35,
   "metadata": {},
   "outputs": [
    {
     "data": {
      "text/plain": [
       "<matplotlib.axes._subplots.AxesSubplot at 0x24da089baf0>"
      ]
     },
     "execution_count": 35,
     "metadata": {},
     "output_type": "execute_result"
    },
    {
     "data": {
      "image/png": "[encoded data removed]",
      "text/plain": [
       "<Figure size 432x288 with 1 Axes>"
      ]
     },
     "metadata": {
      "needs_background": "light"
     },
     "output_type": "display_data"
    }
   ],
   "source": [
    "df['Estado'].value_counts().sort_index().plot.line()"
   ]
  },
  {
   "cell_type": "code",
   "execution_count": 36,
   "metadata": {},
   "outputs": [
    {
     "data": {
      "text/plain": [
       "<matplotlib.axes._subplots.AxesSubplot at 0x24da0905b20>"
      ]
     },
     "execution_count": 36,
     "metadata": {},
     "output_type": "execute_result"
    },
    {
     "data": {
      "image/png": "[encoded data removed]",
      "text/plain": [
       "<Figure size 432x288 with 1 Axes>"
      ]
     },
     "metadata": {
      "needs_background": "light"
     },
     "output_type": "display_data"
    }
   ],
   "source": [
    "df['Estado'].value_counts().sort_index().plot.area()"
   ]
  },
  {
   "cell_type": "markdown",
   "metadata": {},
   "source": [
    "Se utiliza una grafica lineal, para observar el comportamiento de los estados, pudiendo ver cuales estados presentan mas tiroteos en toda su historia."
   ]
  },
  {
   "cell_type": "code",
   "execution_count": 37,
   "metadata": {},
   "outputs": [
    {
     "data": {
      "text/plain": [
       "<matplotlib.axes._subplots.AxesSubplot at 0x24da0974970>"
      ]
     },
     "execution_count": 37,
     "metadata": {},
     "output_type": "execute_result"
    },
    {
     "data": {
      "image/png": "[encoded data removed]",
      "text/plain": [
       "<Figure size 432x288 with 1 Axes>"
      ]
     },
     "metadata": {
      "needs_background": "light"
     },
     "output_type": "display_data"
    }
   ],
   "source": [
    "df['Ciudad'].value_counts().sort_index().plot.line()"
   ]
  },
  {
   "cell_type": "code",
   "execution_count": 38,
   "metadata": {},
   "outputs": [
    {
     "data": {
      "text/plain": [
       "<matplotlib.axes._subplots.AxesSubplot at 0x24da09d40d0>"
      ]
     },
     "execution_count": 38,
     "metadata": {},
     "output_type": "execute_result"
    },
    {
     "data": {
      "image/png": "[encoded data removed]",
      "text/plain": [
       "<Figure size 432x288 with 1 Axes>"
      ]
     },
     "metadata": {
      "needs_background": "light"
     },
     "output_type": "display_data"
    }
   ],
   "source": [
    "df['Ciudad'].value_counts().sort_index().plot.area()"
   ]
  },
  {
   "cell_type": "markdown",
   "metadata": {},
   "source": [
    "Se utiliza una grafica lineal, para observar el comportamiento de las ciudades, pudiendo ver cuales ciudades presentan mas tiroteos en toda su historia."
   ]
  },
  {
   "cell_type": "markdown",
   "metadata": {},
   "source": [
    "Utilice todos los datos para ver el comportamiento de la gráfica, ya que si solo tomaba los primeros 20 se veía una linea"
   ]
  },
  {
   "cell_type": "code",
   "execution_count": 39,
   "metadata": {},
   "outputs": [
    {
     "data": {
      "text/plain": [
       "<matplotlib.axes._subplots.AxesSubplot at 0x24da0a2eaf0>"
      ]
     },
     "execution_count": 39,
     "metadata": {},
     "output_type": "execute_result"
    },
    {
     "data": {
      "image/png": "[encoded data removed]",
      "text/plain": [
       "<Figure size 432x288 with 1 Axes>"
      ]
     },
     "metadata": {
      "needs_background": "light"
     },
     "output_type": "display_data"
    }
   ],
   "source": [
    "df.plot.line(x='Fecha', y='Muertes')"
   ]
  },
  {
   "cell_type": "markdown",
   "metadata": {},
   "source": [
    "Realizamos un plot scatter para ver la tendencia de nuestros datos."
   ]
  },
  {
   "cell_type": "markdown",
   "metadata": {},
   "source": [
    "## Histogramas"
   ]
  },
  {
   "cell_type": "code",
   "execution_count": 40,
   "metadata": {},
   "outputs": [
    {
     "data": {
      "text/plain": [
       "<matplotlib.axes._subplots.AxesSubplot at 0x24da07b8df0>"
      ]
     },
     "execution_count": 40,
     "metadata": {},
     "output_type": "execute_result"
    },
    {
     "data": {
      "image/png": "[encoded data removed]",
      "text/plain": [
       "<Figure size 432x288 with 1 Axes>"
      ]
     },
     "metadata": {
      "needs_background": "light"
     },
     "output_type": "display_data"
    }
   ],
   "source": [
    "df[df['Muertes'] < 35]['Muertes'].plot.hist()"
   ]
  },
  {
   "cell_type": "markdown",
   "metadata": {},
   "source": [
    "Quería poner el histograma de los Estados y las Ciudades, pero python me decia que solo valores \"númericos\" no \"texto\"\n",
    "Entonces en este histograma refleja las \"Muertes\" que ocurren en los tiroteos, lamentablemente se puede ver que ocurre con mayor demanda la muerte de 0 a 5 personas por cada tiroteo ocurrido."
   ]
  },
  {
   "cell_type": "code",
   "execution_count": 41,
   "metadata": {},
   "outputs": [
    {
     "data": {
      "text/plain": [
       "<matplotlib.axes._subplots.AxesSubplot at 0x24da0703a90>"
      ]
     },
     "execution_count": 41,
     "metadata": {},
     "output_type": "execute_result"
    },
    {
     "data": {
      "image/png": "[encoded data removed]",
      "text/plain": [
       "<Figure size 432x288 with 1 Axes>"
      ]
     },
     "metadata": {
      "needs_background": "light"
     },
     "output_type": "display_data"
    }
   ],
   "source": [
    "df['Heridos'].plot.hist()"
   ]
  },
  {
   "cell_type": "markdown",
   "metadata": {},
   "source": [
    "Podemos ver que este histograma refleja los \"Heridos\" que ocurren en los tiroteos, suele seguir un mismo comportamiento que el número de muertos."
   ]
  },
  {
   "cell_type": "markdown",
   "metadata": {},
   "source": [
    "## Gráficos Circulares"
   ]
  },
  {
   "cell_type": "code",
   "execution_count": 42,
   "metadata": {},
   "outputs": [],
   "source": [
    "import pandas as pd\n",
    "from matplotlib.pyplot import pie, axis, show\n",
    "%matplotlib inline"
   ]
  },
  {
   "cell_type": "code",
   "execution_count": 43,
   "metadata": {},
   "outputs": [
    {
     "data": {
      "image/png": "[encoded data removed]",
      "text/plain": [
       "<Figure size 432x288 with 1 Axes>"
      ]
     },
     "metadata": {},
     "output_type": "display_data"
    }
   ],
   "source": [
    "sums = df.groupby(df[\"Estado\"])[\"Muertes\"].sum().head(15)\n",
    "axis('equal');\n",
    "pie(sums, labels=sums.index);\n",
    "show()"
   ]
  },
  {
   "cell_type": "markdown",
   "metadata": {},
   "source": [
    "Urrl: https://stackoverflow.com/questions/56294597/how-to-create-a-pie-chart-from-csv-file-using-python \n",
    "\n",
    "Decidimos utilizar la grafica de pastel ya que nos ayuda a entender, en este caso que estados presentan mayores casos de muertes a causas de los tiroteos, solo mostre 15 estados ya que al poner todos, la grafica no es entendible"
   ]
  },
  {
   "cell_type": "code",
   "execution_count": 44,
   "metadata": {},
   "outputs": [
    {
     "data": {
      "image/png": "[encoded data removed]",
      "text/plain": [
       "<Figure size 432x288 with 1 Axes>"
      ]
     },
     "metadata": {},
     "output_type": "display_data"
    }
   ],
   "source": [
    "sums = df.groupby(df[\"Ciudad\"])[\"Muertes\"].sum().head(15)\n",
    "axis('equal');\n",
    "pie(sums, labels=sums.index);\n",
    "show()"
   ]
  },
  {
   "cell_type": "markdown",
   "metadata": {},
   "source": [
    "Mismo caso, solo que en vez de \"Estados\" maneje las \"Ciudades\", al igual solo mostre solo 15 ciudades, por que si hubiera puesto todas las ciudades no se entenderia bien el grafico."
   ]
  },
  {
   "cell_type": "markdown",
   "metadata": {},
   "source": [
    "# Graficar datos bi-variantes"
   ]
  },
  {
   "cell_type": "markdown",
   "metadata": {},
   "source": [
    "## Scater plot"
   ]
  },
  {
   "cell_type": "code",
   "execution_count": 45,
   "metadata": {},
   "outputs": [
    {
     "data": {
      "text/plain": [
       "<matplotlib.axes._subplots.AxesSubplot at 0x24da0bbd6d0>"
      ]
     },
     "execution_count": 45,
     "metadata": {},
     "output_type": "execute_result"
    },
    {
     "data": {
      "image/png": "[encoded data removed]",
      "text/plain": [
       "<Figure size 432x288 with 1 Axes>"
      ]
     },
     "metadata": {
      "needs_background": "light"
     },
     "output_type": "display_data"
    }
   ],
   "source": [
    "df[df['Heridos'] < 690].sample(690).plot.scatter(x='Heridos', y='Muertes')"
   ]
  },
  {
   "cell_type": "markdown",
   "metadata": {},
   "source": [
    "Esta grafica nos muestra que el número de \"Heridos\" y el número de \"Muertes estan relacionados. Esto significa que entre menos heridos tengamos menos cantidad de muertes sucedera en un tiroteo escolar de EUA."
   ]
  },
  {
   "cell_type": "markdown",
   "metadata": {},
   "source": [
    "## Seaborn"
   ]
  },
  {
   "cell_type": "code",
   "execution_count": 46,
   "metadata": {},
   "outputs": [],
   "source": [
    "import seaborn as sns\n",
    "import matplotlib.pyplot as plt"
   ]
  },
  {
   "cell_type": "code",
   "execution_count": 47,
   "metadata": {},
   "outputs": [
    {
     "data": {
      "text/html": [
       "<div>\n",
       "<style scoped>\n",
       "    .dataframe tbody tr th:only-of-type {\n",
       "        vertical-align: middle;\n",
       "    }\n",
       "\n",
       "    .dataframe tbody tr th {\n",
       "        vertical-align: top;\n",
       "    }\n",
       "\n",
       "    .dataframe thead th {\n",
       "        text-align: right;\n",
       "    }\n",
       "</style>\n",
       "<table border=\"1\" class=\"dataframe\">\n",
       "  <thead>\n",
       "    <tr style=\"text-align: right;\">\n",
       "      <th></th>\n",
       "      <th>Fecha</th>\n",
       "      <th>Ciudad</th>\n",
       "      <th>Estado</th>\n",
       "      <th>Tipo_de_área</th>\n",
       "      <th>Escuela</th>\n",
       "      <th>Muertes</th>\n",
       "      <th>Heridos</th>\n",
       "      <th>True</th>\n",
       "      <th>Wikp_o_Pah</th>\n",
       "      <th>Descripción</th>\n",
       "      <th>Total victimas</th>\n",
       "    </tr>\n",
       "  </thead>\n",
       "  <tbody>\n",
       "    <tr>\n",
       "      <th>0</th>\n",
       "      <td>3/27/90</td>\n",
       "      <td>Brooklyn</td>\n",
       "      <td>New York</td>\n",
       "      <td>0</td>\n",
       "      <td>C</td>\n",
       "      <td>0</td>\n",
       "      <td>1.0</td>\n",
       "      <td>0</td>\n",
       "      <td>Wikp</td>\n",
       "      <td>A black youth was taunted with racial slurs by...</td>\n",
       "      <td>1.0</td>\n",
       "    </tr>\n",
       "    <tr>\n",
       "      <th>1</th>\n",
       "      <td>5/20/90</td>\n",
       "      <td>Centerville</td>\n",
       "      <td>Tennessee</td>\n",
       "      <td>suburban</td>\n",
       "      <td>HS</td>\n",
       "      <td>1</td>\n",
       "      <td>0.0</td>\n",
       "      <td>0</td>\n",
       "      <td>Pah</td>\n",
       "      <td>Sin descripción</td>\n",
       "      <td>1.0</td>\n",
       "    </tr>\n",
       "    <tr>\n",
       "      <th>2</th>\n",
       "      <td>8/26/90</td>\n",
       "      <td>Las Vegas</td>\n",
       "      <td>Nevada</td>\n",
       "      <td>urban</td>\n",
       "      <td>HS</td>\n",
       "      <td>1</td>\n",
       "      <td>0.0</td>\n",
       "      <td>0</td>\n",
       "      <td>Pah</td>\n",
       "      <td>Sin descripción</td>\n",
       "      <td>1.0</td>\n",
       "    </tr>\n",
       "    <tr>\n",
       "      <th>3</th>\n",
       "      <td>9/11/90</td>\n",
       "      <td>San Antonio</td>\n",
       "      <td>Texas</td>\n",
       "      <td>0</td>\n",
       "      <td>HS</td>\n",
       "      <td>0</td>\n",
       "      <td>3.0</td>\n",
       "      <td>0</td>\n",
       "      <td>Wikp</td>\n",
       "      <td>3 students were wounded when gunfire broke out...</td>\n",
       "      <td>3.0</td>\n",
       "    </tr>\n",
       "    <tr>\n",
       "      <th>4</th>\n",
       "      <td>1/8/91</td>\n",
       "      <td>Richardson</td>\n",
       "      <td>Texas</td>\n",
       "      <td>urban</td>\n",
       "      <td>HS</td>\n",
       "      <td>0</td>\n",
       "      <td>0.0</td>\n",
       "      <td>0</td>\n",
       "      <td>Pah</td>\n",
       "      <td>Sin descripción</td>\n",
       "      <td>0.0</td>\n",
       "    </tr>\n",
       "  </tbody>\n",
       "</table>\n",
       "</div>"
      ],
      "text/plain": [
       "     Fecha       Ciudad     Estado Tipo_de_área Escuela  Muertes  Heridos  \\\n",
       "0  3/27/90     Brooklyn   New York            0       C        0      1.0   \n",
       "1  5/20/90  Centerville  Tennessee     suburban      HS        1      0.0   \n",
       "2  8/26/90    Las Vegas     Nevada        urban      HS        1      0.0   \n",
       "3  9/11/90  San Antonio      Texas            0      HS        0      3.0   \n",
       "4   1/8/91   Richardson      Texas        urban      HS        0      0.0   \n",
       "\n",
       "  True Wikp_o_Pah                                        Descripción  \\\n",
       "0    0       Wikp  A black youth was taunted with racial slurs by...   \n",
       "1    0        Pah                                    Sin descripción   \n",
       "2    0        Pah                                    Sin descripción   \n",
       "3    0       Wikp  3 students were wounded when gunfire broke out...   \n",
       "4    0        Pah                                    Sin descripción   \n",
       "\n",
       "   Total victimas  \n",
       "0             1.0  \n",
       "1             1.0  \n",
       "2             1.0  \n",
       "3             3.0  \n",
       "4             0.0  "
      ]
     },
     "execution_count": 47,
     "metadata": {},
     "output_type": "execute_result"
    }
   ],
   "source": [
    "df.head()"
   ]
  },
  {
   "cell_type": "code",
   "execution_count": 48,
   "metadata": {},
   "outputs": [
    {
     "data": {
      "text/plain": [
       "<seaborn.axisgrid.PairGrid at 0x24da2d571c0>"
      ]
     },
     "execution_count": 48,
     "metadata": {},
     "output_type": "execute_result"
    },
    {
     "data": {
      "image/png": "[encoded data removed]",
      "text/plain": [
       "<Figure size 360x360 with 6 Axes>"
      ]
     },
     "metadata": {
      "needs_background": "light"
     },
     "output_type": "display_data"
    }
   ],
   "source": [
    "sns.pairplot(df[['Muertes', 'Heridos']])"
   ]
  },
  {
   "cell_type": "markdown",
   "metadata": {},
   "source": [
    "# Graficas multivariantes"
   ]
  },
  {
   "cell_type": "code",
   "execution_count": 49,
   "metadata": {},
   "outputs": [
    {
     "data": {
      "text/plain": [
       "<seaborn.axisgrid.FacetGrid at 0x24da2e3f130>"
      ]
     },
     "execution_count": 49,
     "metadata": {},
     "output_type": "execute_result"
    },
    {
     "data": {
      "image/png": "[encoded data removed]",
      "text/plain": [
       "<Figure size 426.5x360 with 1 Axes>"
      ]
     },
     "metadata": {
      "needs_background": "light"
     },
     "output_type": "display_data"
    }
   ],
   "source": [
    "sns.lmplot(x='Muertes', y='Heridos', hue='Wikp_o_Pah', \n",
    "           data=df.loc[df['Wikp_o_Pah'].isin(['Wikp', 'Pah'])], \n",
    "           fit_reg=False)"
   ]
  },
  {
   "cell_type": "markdown",
   "metadata": {},
   "source": [
    "Decidí tomar el Wikp_o_Pah, ya que me llamó la atención ver como ambas chocan y ocurre un Pah:solo ocurrio muertes o un Wikp:ocurrio muerte y heridos."
   ]
  },
  {
   "cell_type": "code",
   "execution_count": 50,
   "metadata": {},
   "outputs": [
    {
     "data": {
      "text/plain": [
       "<seaborn.axisgrid.FacetGrid at 0x24da2c3bfa0>"
      ]
     },
     "execution_count": 50,
     "metadata": {},
     "output_type": "execute_result"
    },
    {
     "data": {
      "image/png": "[encoded data removed]",
      "text/plain": [
       "<Figure size 410.875x360 with 1 Axes>"
      ]
     },
     "metadata": {
      "needs_background": "light"
     },
     "output_type": "display_data"
    }
   ],
   "source": [
    "sns.lmplot(x='Muertes', y='Heridos', hue='Escuela', \n",
    "           data=df.loc[df['Escuela'].isin(['C', 'HS','MS','ES','-'])], \n",
    "           fit_reg=False)"
   ]
  },
  {
   "cell_type": "markdown",
   "metadata": {},
   "source": [
    "En esta gráfica multivariante decidi tomar la Escuela, ya que me interesa saber a que nivel educativo suelen haber mas \"Muertes\" y \"Heridos a causa del tiroteo en EUA, por lo que la Escuela se divide en: C=universidad, HS=escuela secundaria, MS=escuela intermedia, ES=escuela primaria, -=desconocido"
   ]
  },
  {
   "cell_type": "code",
   "execution_count": 51,
   "metadata": {},
   "outputs": [
    {
     "data": {
      "image/png": "[encoded data removed]",
      "text/plain": [
       "<Figure size 432x288 with 1 Axes>"
      ]
     },
     "metadata": {
      "needs_background": "light"
     },
     "output_type": "display_data"
    }
   ],
   "source": [
    "W = plt.hist(df[df[\"Wikp_o_Pah\"] == \"Wikp\"].Muertes,bins=30,fc = (1,0,0,0.5),label = \"Wikp\",orientation='horizontal')\n",
    "P = plt.hist(df[df[\"Wikp_o_Pah\"] == \"Pah\"].Muertes,bins=30,fc = (0,1,0,0.5),label = \"Pah\",orientation='horizontal')\n",
    "plt.legend()\n",
    "plt.xlabel(\"Frecuencia\")\n",
    "plt.ylabel(\"Número de muertos\")\n",
    "plt.title(\"Histograma\")\n",
    "plt.show()"
   ]
  },
  {
   "cell_type": "markdown",
   "metadata": {},
   "source": [
    "CORRECIÓN: solo se nos pidio cambiar el orden de la gráfica para que se visualice mejor."
   ]
  },
  {
   "cell_type": "code",
   "execution_count": 52,
   "metadata": {},
   "outputs": [
    {
     "data": {
      "image/png": "[encoded data removed]",
      "text/plain": [
       "<Figure size 1296x1296 with 2 Axes>"
      ]
     },
     "metadata": {
      "needs_background": "light"
     },
     "output_type": "display_data"
    }
   ],
   "source": [
    "f,ax=plt.subplots(figsize = (18,18))\n",
    "sns.heatmap(df.corr(),annot= True,linewidths=0.5,fmt = \".1f\",ax=ax)\n",
    "plt.xticks(rotation=90)\n",
    "plt.yticks(rotation=0)\n",
    "plt.title('Mapa de correlación')\n",
    "plt.savefig('graph.png')\n",
    "plt.show()"
   ]
  },
  {
   "cell_type": "markdown",
   "metadata": {},
   "source": [
    "Para esta grafica de aquí arriba lo que podemos hacer es cambiar los nombres de:\n",
    "Las escuelas a números, representativos como 1,2,3,4,5\n",
    "Tambien para \"Tipo de area\", \"True\", \"Wikp o Pah\"\n",
    "Una vez que hagamos eso la grafica de arriba se podra ver como la del ejemplo de la maestra."
   ]
  },
  {
   "cell_type": "markdown",
   "metadata": {},
   "source": [
    "# Cambiar datos por números"
   ]
  },
  {
   "cell_type": "markdown",
   "metadata": {},
   "source": [
    "### Solo realice esto para que se pudiera ver mejor la última gráfica"
   ]
  },
  {
   "cell_type": "code",
   "execution_count": 53,
   "metadata": {},
   "outputs": [],
   "source": [
    "import pandas as pd\n",
    "import numpy as np\n",
    "import json"
   ]
  },
  {
   "cell_type": "code",
   "execution_count": 54,
   "metadata": {},
   "outputs": [],
   "source": [
    "dfModificado = pd.read_csv(\"Pah_whikp_modificado.csv\")"
   ]
  },
  {
   "cell_type": "code",
   "execution_count": 55,
   "metadata": {},
   "outputs": [],
   "source": [
    "dfModificado.columns = ['Fecha','Ciudad','Estado','Tipo_de_área','Escuela','Muertes','Heridos','True','Wikp_o_Pah','Descripción']"
   ]
  },
  {
   "cell_type": "code",
   "execution_count": 56,
   "metadata": {},
   "outputs": [],
   "source": [
    "dfModificado0= dfModificado.fillna(0)"
   ]
  },
  {
   "cell_type": "code",
   "execution_count": 61,
   "metadata": {},
   "outputs": [],
   "source": [
    "dfModificado0['Total victimas']=dfModificado0.loc[dfModificado0['Muertes']>=0, ['Muertes','Heridos']].sum(axis=1)\n"
   ]
  },
  {
   "cell_type": "code",
   "execution_count": 62,
   "metadata": {},
   "outputs": [
    {
     "data": {
      "text/html": [
       "<div>\n",
       "<style scoped>\n",
       "    .dataframe tbody tr th:only-of-type {\n",
       "        vertical-align: middle;\n",
       "    }\n",
       "\n",
       "    .dataframe tbody tr th {\n",
       "        vertical-align: top;\n",
       "    }\n",
       "\n",
       "    .dataframe thead th {\n",
       "        text-align: right;\n",
       "    }\n",
       "</style>\n",
       "<table border=\"1\" class=\"dataframe\">\n",
       "  <thead>\n",
       "    <tr style=\"text-align: right;\">\n",
       "      <th></th>\n",
       "      <th>Fecha</th>\n",
       "      <th>Ciudad</th>\n",
       "      <th>Estado</th>\n",
       "      <th>Tipo_de_área</th>\n",
       "      <th>Escuela</th>\n",
       "      <th>Muertes</th>\n",
       "      <th>Heridos</th>\n",
       "      <th>True</th>\n",
       "      <th>Wikp_o_Pah</th>\n",
       "      <th>Total victimas</th>\n",
       "    </tr>\n",
       "  </thead>\n",
       "  <tbody>\n",
       "    <tr>\n",
       "      <th>0</th>\n",
       "      <td>3/27/90</td>\n",
       "      <td>Brooklyn</td>\n",
       "      <td>New York</td>\n",
       "      <td>0</td>\n",
       "      <td>1.0</td>\n",
       "      <td>0</td>\n",
       "      <td>1.0</td>\n",
       "      <td>0.0</td>\n",
       "      <td>0</td>\n",
       "      <td>1.0</td>\n",
       "    </tr>\n",
       "    <tr>\n",
       "      <th>1</th>\n",
       "      <td>5/20/90</td>\n",
       "      <td>1enterville</td>\n",
       "      <td>Tenn4see</td>\n",
       "      <td>1</td>\n",
       "      <td>2.0</td>\n",
       "      <td>1</td>\n",
       "      <td>0.0</td>\n",
       "      <td>0.0</td>\n",
       "      <td>1</td>\n",
       "      <td>1.0</td>\n",
       "    </tr>\n",
       "    <tr>\n",
       "      <th>2</th>\n",
       "      <td>8/26/90</td>\n",
       "      <td>Las Vegas</td>\n",
       "      <td>Nevada</td>\n",
       "      <td>2</td>\n",
       "      <td>2.0</td>\n",
       "      <td>1</td>\n",
       "      <td>0.0</td>\n",
       "      <td>0.0</td>\n",
       "      <td>1</td>\n",
       "      <td>1.0</td>\n",
       "    </tr>\n",
       "    <tr>\n",
       "      <th>3</th>\n",
       "      <td>09/11/1990</td>\n",
       "      <td>San Antonio</td>\n",
       "      <td>Texas</td>\n",
       "      <td>0</td>\n",
       "      <td>2.0</td>\n",
       "      <td>0</td>\n",
       "      <td>3.0</td>\n",
       "      <td>0.0</td>\n",
       "      <td>0</td>\n",
       "      <td>3.0</td>\n",
       "    </tr>\n",
       "    <tr>\n",
       "      <th>4</th>\n",
       "      <td>01/08/1991</td>\n",
       "      <td>Ri1hardson</td>\n",
       "      <td>Texas</td>\n",
       "      <td>2</td>\n",
       "      <td>2.0</td>\n",
       "      <td>0</td>\n",
       "      <td>0.0</td>\n",
       "      <td>0.0</td>\n",
       "      <td>1</td>\n",
       "      <td>0.0</td>\n",
       "    </tr>\n",
       "    <tr>\n",
       "      <th>...</th>\n",
       "      <td>...</td>\n",
       "      <td>...</td>\n",
       "      <td>...</td>\n",
       "      <td>...</td>\n",
       "      <td>...</td>\n",
       "      <td>...</td>\n",
       "      <td>...</td>\n",
       "      <td>...</td>\n",
       "      <td>...</td>\n",
       "      <td>...</td>\n",
       "    </tr>\n",
       "    <tr>\n",
       "      <th>690</th>\n",
       "      <td>1/14/20</td>\n",
       "      <td>Bellaire</td>\n",
       "      <td>Texas</td>\n",
       "      <td>0</td>\n",
       "      <td>2.0</td>\n",
       "      <td>1</td>\n",
       "      <td>0.0</td>\n",
       "      <td>0.0</td>\n",
       "      <td>0</td>\n",
       "      <td>1.0</td>\n",
       "    </tr>\n",
       "    <tr>\n",
       "      <th>691</th>\n",
       "      <td>1/14/20</td>\n",
       "      <td>Fort Worth</td>\n",
       "      <td>Texas</td>\n",
       "      <td>0</td>\n",
       "      <td>2.0</td>\n",
       "      <td>0</td>\n",
       "      <td>2.0</td>\n",
       "      <td>0.0</td>\n",
       "      <td>0</td>\n",
       "      <td>2.0</td>\n",
       "    </tr>\n",
       "    <tr>\n",
       "      <th>692</th>\n",
       "      <td>1/23/20</td>\n",
       "      <td>Oxnard</td>\n",
       "      <td>1alifornia</td>\n",
       "      <td>0</td>\n",
       "      <td>4.0</td>\n",
       "      <td>0</td>\n",
       "      <td>1.0</td>\n",
       "      <td>0.0</td>\n",
       "      <td>0</td>\n",
       "      <td>1.0</td>\n",
       "    </tr>\n",
       "    <tr>\n",
       "      <th>693</th>\n",
       "      <td>02/03/2020</td>\n",
       "      <td>1ommer1e</td>\n",
       "      <td>Texas</td>\n",
       "      <td>0</td>\n",
       "      <td>1.0</td>\n",
       "      <td>2</td>\n",
       "      <td>1.0</td>\n",
       "      <td>0.0</td>\n",
       "      <td>0</td>\n",
       "      <td>3.0</td>\n",
       "    </tr>\n",
       "    <tr>\n",
       "      <th>694</th>\n",
       "      <td>9/16/20</td>\n",
       "      <td>Sonora</td>\n",
       "      <td>1alifornia</td>\n",
       "      <td>0</td>\n",
       "      <td>2.0</td>\n",
       "      <td>1</td>\n",
       "      <td>0.0</td>\n",
       "      <td>0.0</td>\n",
       "      <td>0</td>\n",
       "      <td>1.0</td>\n",
       "    </tr>\n",
       "  </tbody>\n",
       "</table>\n",
       "<p>695 rows × 10 columns</p>\n",
       "</div>"
      ],
      "text/plain": [
       "          Fecha       Ciudad      Estado Tipo_de_área  Escuela  Muertes  \\\n",
       "0       3/27/90     Brooklyn    New York            0      1.0        0   \n",
       "1       5/20/90  1enterville    Tenn4see            1      2.0        1   \n",
       "2       8/26/90    Las Vegas      Nevada            2      2.0        1   \n",
       "3    09/11/1990  San Antonio       Texas            0      2.0        0   \n",
       "4    01/08/1991   Ri1hardson       Texas            2      2.0        0   \n",
       "..          ...          ...         ...          ...      ...      ...   \n",
       "690     1/14/20     Bellaire       Texas            0      2.0        1   \n",
       "691     1/14/20   Fort Worth       Texas            0      2.0        0   \n",
       "692     1/23/20       Oxnard  1alifornia            0      4.0        0   \n",
       "693  02/03/2020     1ommer1e       Texas            0      1.0        2   \n",
       "694     9/16/20       Sonora  1alifornia            0      2.0        1   \n",
       "\n",
       "     Heridos  True  Wikp_o_Pah  Total victimas  \n",
       "0        1.0   0.0           0             1.0  \n",
       "1        0.0   0.0           1             1.0  \n",
       "2        0.0   0.0           1             1.0  \n",
       "3        3.0   0.0           0             3.0  \n",
       "4        0.0   0.0           1             0.0  \n",
       "..       ...   ...         ...             ...  \n",
       "690      0.0   0.0           0             1.0  \n",
       "691      2.0   0.0           0             2.0  \n",
       "692      1.0   0.0           0             1.0  \n",
       "693      1.0   0.0           0             3.0  \n",
       "694      0.0   0.0           0             1.0  \n",
       "\n",
       "[695 rows x 10 columns]"
      ]
     },
     "execution_count": 62,
     "metadata": {},
     "output_type": "execute_result"
    }
   ],
   "source": [
    "dfModificado0.drop(['Descripción'], axis=1)"
   ]
  },
  {
   "cell_type": "markdown",
   "metadata": {},
   "source": [
    "Pequeño experimento para ver el comportamiento, ya que antes de esta base de datos solo teniamos dos columnas con números enteros, ahora para las columnas \"Tipo de área\", \"True\" y \"Wikp o Pah\", de texto pasaron a datos númericos.\n",
    "\n",
    "Tipo de area: otro tipo=0, subbarn=1, urban=2\n",
    "Escuela: C=Universidad=1, HS=Escuela secundaria=2, MS=Escuela intermedia=3, ES=Escuela primaria=4, -=desconocido=5\n",
    "TRUE: Falso=0, Verdadero=1\n",
    "Wikp o Pah: Wikp=0, Pah=1"
   ]
  },
  {
   "cell_type": "code",
   "execution_count": 63,
   "metadata": {},
   "outputs": [],
   "source": [
    "import seaborn as sns\n",
    "import matplotlib.pyplot as plt"
   ]
  },
  {
   "cell_type": "code",
   "execution_count": 64,
   "metadata": {},
   "outputs": [
    {
     "data": {
      "image/png": "[encoded data removed]",
      "text/plain": [
       "<Figure size 1080x1080 with 2 Axes>"
      ]
     },
     "metadata": {
      "needs_background": "light"
     },
     "output_type": "display_data"
    }
   ],
   "source": [
    "f,ax=plt.subplots(figsize = (15,15))\n",
    "sns.heatmap(dfModificado0.corr(),annot= True,linewidths=0.5,fmt = \".1f\",ax=ax)\n",
    "plt.xticks(rotation=90)\n",
    "plt.yticks(rotation=0)\n",
    "plt.title('Mapa de correlación')\n",
    "plt.savefig('graph.png')\n",
    "plt.show()"
   ]
  }
 ],
 "metadata": {
  "kernelspec": {
   "display_name": "Python 3",
   "language": "python",
   "name": "python3"
  },
  "language_info": {
   "codemirror_mode": {
    "name": "ipython",
    "version": 3
   },
   "file_extension": ".py",
   "mimetype": "text/x-python",
   "name": "python",
   "nbconvert_exporter": "python",
   "pygments_lexer": "ipython3",
   "version": "3.8.3"
  }
 },
 "nbformat": 4,
 "nbformat_minor": 4
}
